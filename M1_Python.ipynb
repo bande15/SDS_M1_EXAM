{
  "nbformat": 4,
  "nbformat_minor": 0,
  "metadata": {
    "colab": {
      "name": "M1 Python.ipynb",
      "provenance": [],
      "collapsed_sections": []
    },
    "kernelspec": {
      "name": "python3",
      "display_name": "Python 3"
    }
  },
  "cells": [
    {
      "cell_type": "markdown",
      "metadata": {
        "id": "qGulJZ1UhMQL",
        "colab_type": "text"
      },
      "source": [
        "This is part of a three part hand-in to the M1-exam."
      ]
    },
    {
      "cell_type": "markdown",
      "metadata": {
        "id": "fvMbrQdjhYt8",
        "colab_type": "text"
      },
      "source": [
        "Link to this colab is https://colab.research.google.com/drive/1i7VYq8SgB5dFA8jNcMaVJBBHqsD43exI"
      ]
    },
    {
      "cell_type": "markdown",
      "metadata": {
        "id": "d09v0fNbLo5K",
        "colab_type": "text"
      },
      "source": [
        "**Preprocessing**"
      ]
    },
    {
      "cell_type": "markdown",
      "metadata": {
        "id": "U60P4stpL4mk",
        "colab_type": "text"
      },
      "source": [
        "Importing libraries and fetching data"
      ]
    },
    {
      "cell_type": "code",
      "metadata": {
        "id": "awmDZAGhxBD3",
        "colab_type": "code",
        "colab": {}
      },
      "source": [
        "## Get data\n",
        "!wget -c https://github.com/bande15/SDS_M1_EXAM/raw/master/combine_data.csv -O df.csv\n",
        "  \n",
        "## Mute Warnings\n",
        "from warnings import simplefilter\n",
        "simplefilter(action='ignore', category=(FutureWarning,DeprecationWarning, Warning))\n",
        "\n",
        "#Import General Libraries\n",
        "import matplotlib.pyplot as plt\n",
        "import numpy as np\n",
        "import pandas as pd\n",
        "import seaborn as sns\n",
        "import xgboost as xgb\n",
        "from sklearn.cluster import KMeans\n",
        "from sklearn.decomposition import PCA \n",
        "from sklearn.linear_model import LinearRegression\n",
        "from sklearn.linear_model import LogisticRegression\n",
        "from sklearn.metrics import classification_report\n",
        "from sklearn.metrics import confusion_matrix\n",
        "from sklearn.model_selection import cross_val_score\n",
        "from sklearn.model_selection import train_test_split\n",
        "from sklearn.preprocessing import LabelEncoder\n",
        "from sklearn.preprocessing import StandardScaler\n",
        "from sklearn.tree import DecisionTreeClassifier\n",
        "\n",
        "#Install and import special libraries\n",
        "!pip install catboost\n",
        "from catboost import CatBoostClassifier"
      ],
      "execution_count": 0,
      "outputs": []
    },
    {
      "cell_type": "markdown",
      "metadata": {
        "id": "26fX9E2vL3TK",
        "colab_type": "text"
      },
      "source": [
        "Reading and processing data; \n",
        "The analysis is trying to identify and predict position from physical stats, so all other data is dropped before missing values are dropped. Data is then converted to metric."
      ]
    },
    {
      "cell_type": "code",
      "metadata": {
        "id": "-mq7PWd-1-xs",
        "colab_type": "code",
        "outputId": "22735d0d-388c-4211-8fb6-12d9bbf08cad",
        "colab": {
          "base_uri": "https://localhost:8080/",
          "height": 34
        }
      },
      "source": [
        "df = pd.read_csv('df.csv')\n",
        "df_pre = df.drop(['Player','Pfr_ID','Year','AV'], 1)\n",
        "df_pre = df_pre.dropna(how='any' , axis=0)\n",
        "df = df.drop(['Player','Pfr_ID','Year','AV','Round','Pick','Team'], 1)\n",
        "a = len(df)\n",
        "df = df.dropna(how='any' , axis=0)\n",
        "b = a - len(df)\n",
        "a = len(df)\n",
        "print(b , 'observations dropped due to missing values.', a ,'values left.' )\n",
        "del a , b"
      ],
      "execution_count": 0,
      "outputs": [
        {
          "output_type": "stream",
          "text": [
            "3333 observations dropped due to missing values. 2885 values left.\n"
          ],
          "name": "stdout"
        }
      ]
    },
    {
      "cell_type": "markdown",
      "metadata": {
        "id": "3jFEqZUDNXTY",
        "colab_type": "text"
      },
      "source": [
        "We wil now count occurrences for each unique positon before and after observations with missing data is dropped."
      ]
    },
    {
      "cell_type": "code",
      "metadata": {
        "id": "-7uobUsiBJ-0",
        "colab_type": "code",
        "outputId": "1dfde412-a63b-4ff1-b7f2-620d405292f0",
        "colab": {
          "base_uri": "https://localhost:8080/",
          "height": 816
        }
      },
      "source": [
        "df_old = pd.read_csv('df.csv')\n",
        "a = df_old.Pos.value_counts()\n",
        "b = df.Pos.value_counts()\n",
        "print(a , b)"
      ],
      "execution_count": 0,
      "outputs": [
        {
          "output_type": "stream",
          "text": [
            "WR      857\n",
            "CB      630\n",
            "RB      540\n",
            "DE      487\n",
            "DT      463\n",
            "OT      460\n",
            "OLB     424\n",
            "OG      365\n",
            "QB      350\n",
            "TE      337\n",
            "ILB     276\n",
            "FS      229\n",
            "SS      213\n",
            "C       171\n",
            "P       120\n",
            "FB      117\n",
            "K        85\n",
            "S        27\n",
            "EDGE     23\n",
            "LS       20\n",
            "G        14\n",
            "NT        3\n",
            "LB        3\n",
            "DB        2\n",
            "OL        2\n",
            "Name: Pos, dtype: int64 CB      311\n",
            "DE      279\n",
            "WR      275\n",
            "OT      273\n",
            "DT      253\n",
            "RB      245\n",
            "OLB     240\n",
            "OG      224\n",
            "TE      194\n",
            "ILB     130\n",
            "FS      123\n",
            "C       115\n",
            "SS      107\n",
            "FB       77\n",
            "QB       12\n",
            "G         8\n",
            "EDGE      8\n",
            "S         7\n",
            "LS        2\n",
            "LB        1\n",
            "OL        1\n",
            "Name: Pos, dtype: int64\n"
          ],
          "name": "stdout"
        }
      ]
    },
    {
      "cell_type": "markdown",
      "metadata": {
        "id": "o5mfhC5Ka08W",
        "colab_type": "text"
      },
      "source": [
        "From the above lists of observations per position it becomes clear that  some positions have very few or no coherent observations. Not only does this prevent a 'coherent' analysis, but the option of simply scrappinf the observations, or konverting missing to zero, will not yield truthful results. This is a essential fundamentiil problem with the following analysis, and it will be discussed and in the shareholder's handout. The short version is, excludidng positions will not only prevent the models from predicting those positions, but also falsely associate some combination of stats with other positions, this yielding false results."
      ]
    },
    {
      "cell_type": "code",
      "metadata": {
        "id": "t3N6nab8a1GS",
        "colab_type": "code",
        "outputId": "38d3b938-75f4-49e3-e30a-05b9707544e1",
        "colab": {
          "base_uri": "https://localhost:8080/",
          "height": 442
        }
      },
      "source": [
        "# Metric Conversion\n",
        "def to_cm(F):\n",
        "    return F*2.54\n",
        "def to_kg(F):\n",
        "    return F*0.45359237\n",
        "\n",
        "df[['Ht','Vertical','BroadJump']] = df[['Ht','Vertical','BroadJump']].apply(to_cm)\n",
        "df[['Wt']] = df[['Wt']].apply(to_kg)\n",
        "df_pre[['Ht','Vertical','BroadJump']] = df_pre[['Ht','Vertical','BroadJump']].apply(to_cm)\n",
        "df_pre[['Wt']] = df_pre[['Wt']].apply(to_kg)\n",
        "df.info()\n",
        "df.head()"
      ],
      "execution_count": 0,
      "outputs": [
        {
          "output_type": "stream",
          "text": [
            "<class 'pandas.core.frame.DataFrame'>\n",
            "Int64Index: 2885 entries, 2 to 6217\n",
            "Data columns (total 9 columns):\n",
            "Pos          2885 non-null object\n",
            "Ht           2885 non-null float64\n",
            "Wt           2885 non-null float64\n",
            "Forty        2885 non-null float64\n",
            "Vertical     2885 non-null float64\n",
            "BenchReps    2885 non-null float64\n",
            "BroadJump    2885 non-null float64\n",
            "Cone         2885 non-null float64\n",
            "Shuttle      2885 non-null float64\n",
            "dtypes: float64(8), object(1)\n",
            "memory usage: 225.4+ KB\n"
          ],
          "name": "stdout"
        },
        {
          "output_type": "execute_result",
          "data": {
            "text/html": [
              "<div>\n",
              "<style scoped>\n",
              "    .dataframe tbody tr th:only-of-type {\n",
              "        vertical-align: middle;\n",
              "    }\n",
              "\n",
              "    .dataframe tbody tr th {\n",
              "        vertical-align: top;\n",
              "    }\n",
              "\n",
              "    .dataframe thead th {\n",
              "        text-align: right;\n",
              "    }\n",
              "</style>\n",
              "<table border=\"1\" class=\"dataframe\">\n",
              "  <thead>\n",
              "    <tr style=\"text-align: right;\">\n",
              "      <th></th>\n",
              "      <th>Pos</th>\n",
              "      <th>Ht</th>\n",
              "      <th>Wt</th>\n",
              "      <th>Forty</th>\n",
              "      <th>Vertical</th>\n",
              "      <th>BenchReps</th>\n",
              "      <th>BroadJump</th>\n",
              "      <th>Cone</th>\n",
              "      <th>Shuttle</th>\n",
              "    </tr>\n",
              "  </thead>\n",
              "  <tbody>\n",
              "    <tr>\n",
              "      <th>2</th>\n",
              "      <td>OT</td>\n",
              "      <td>193.04</td>\n",
              "      <td>151.499852</td>\n",
              "      <td>5.56</td>\n",
              "      <td>63.50</td>\n",
              "      <td>23.0</td>\n",
              "      <td>238.76</td>\n",
              "      <td>8.48</td>\n",
              "      <td>4.98</td>\n",
              "    </tr>\n",
              "    <tr>\n",
              "      <th>7</th>\n",
              "      <td>OLB</td>\n",
              "      <td>182.88</td>\n",
              "      <td>107.501392</td>\n",
              "      <td>4.72</td>\n",
              "      <td>78.74</td>\n",
              "      <td>21.0</td>\n",
              "      <td>284.48</td>\n",
              "      <td>7.96</td>\n",
              "      <td>4.39</td>\n",
              "    </tr>\n",
              "    <tr>\n",
              "      <th>9</th>\n",
              "      <td>CB</td>\n",
              "      <td>175.26</td>\n",
              "      <td>79.378665</td>\n",
              "      <td>4.44</td>\n",
              "      <td>88.90</td>\n",
              "      <td>17.0</td>\n",
              "      <td>302.26</td>\n",
              "      <td>7.03</td>\n",
              "      <td>4.14</td>\n",
              "    </tr>\n",
              "    <tr>\n",
              "      <th>11</th>\n",
              "      <td>OT</td>\n",
              "      <td>198.12</td>\n",
              "      <td>141.520819</td>\n",
              "      <td>5.34</td>\n",
              "      <td>71.12</td>\n",
              "      <td>20.0</td>\n",
              "      <td>243.84</td>\n",
              "      <td>7.72</td>\n",
              "      <td>4.73</td>\n",
              "    </tr>\n",
              "    <tr>\n",
              "      <th>12</th>\n",
              "      <td>FS</td>\n",
              "      <td>182.88</td>\n",
              "      <td>94.347213</td>\n",
              "      <td>4.62</td>\n",
              "      <td>88.90</td>\n",
              "      <td>10.0</td>\n",
              "      <td>289.56</td>\n",
              "      <td>6.92</td>\n",
              "      <td>4.32</td>\n",
              "    </tr>\n",
              "  </tbody>\n",
              "</table>\n",
              "</div>"
            ],
            "text/plain": [
              "    Pos      Ht          Wt  Forty  ...  BenchReps  BroadJump  Cone  Shuttle\n",
              "2    OT  193.04  151.499852   5.56  ...       23.0     238.76  8.48     4.98\n",
              "7   OLB  182.88  107.501392   4.72  ...       21.0     284.48  7.96     4.39\n",
              "9    CB  175.26   79.378665   4.44  ...       17.0     302.26  7.03     4.14\n",
              "11   OT  198.12  141.520819   5.34  ...       20.0     243.84  7.72     4.73\n",
              "12   FS  182.88   94.347213   4.62  ...       10.0     289.56  6.92     4.32\n",
              "\n",
              "[5 rows x 9 columns]"
            ]
          },
          "metadata": {
            "tags": []
          },
          "execution_count": 30
        }
      ]
    },
    {
      "cell_type": "markdown",
      "metadata": {
        "id": "lXZmQc73Pnbp",
        "colab_type": "text"
      },
      "source": [
        "With the newly cleaned and metrified dataframe, we can now try to make some explorative data analysis.\n",
        "\n",
        "First off, we can look at the different teams, asking the question:\n",
        "\n",
        "How different are the teams?\n",
        "\n",
        "This can be examined by grouping for the 'Team' variable, and taking the mean of relevant variables."
      ]
    },
    {
      "cell_type": "code",
      "metadata": {
        "id": "5-2UYvAv8fg5",
        "colab_type": "code",
        "outputId": "ae1821f3-9cc5-44d3-91ff-f8f799e1520e",
        "colab": {
          "base_uri": "https://localhost:8080/",
          "height": 1000
        }
      },
      "source": [
        "df_pre.groupby('Team')['Ht','Wt','Forty','Vertical','BenchReps','BroadJump','Cone','Shuttle','Round','Pick'].mean()"
      ],
      "execution_count": 0,
      "outputs": [
        {
          "output_type": "execute_result",
          "data": {
            "text/html": [
              "<div>\n",
              "<style scoped>\n",
              "    .dataframe tbody tr th:only-of-type {\n",
              "        vertical-align: middle;\n",
              "    }\n",
              "\n",
              "    .dataframe tbody tr th {\n",
              "        vertical-align: top;\n",
              "    }\n",
              "\n",
              "    .dataframe thead th {\n",
              "        text-align: right;\n",
              "    }\n",
              "</style>\n",
              "<table border=\"1\" class=\"dataframe\">\n",
              "  <thead>\n",
              "    <tr style=\"text-align: right;\">\n",
              "      <th></th>\n",
              "      <th>Ht</th>\n",
              "      <th>Wt</th>\n",
              "      <th>Forty</th>\n",
              "      <th>Vertical</th>\n",
              "      <th>BenchReps</th>\n",
              "      <th>BroadJump</th>\n",
              "      <th>Cone</th>\n",
              "      <th>Shuttle</th>\n",
              "      <th>Round</th>\n",
              "      <th>Pick</th>\n",
              "    </tr>\n",
              "    <tr>\n",
              "      <th>Team</th>\n",
              "      <th></th>\n",
              "      <th></th>\n",
              "      <th></th>\n",
              "      <th></th>\n",
              "      <th></th>\n",
              "      <th></th>\n",
              "      <th></th>\n",
              "      <th></th>\n",
              "      <th></th>\n",
              "      <th></th>\n",
              "    </tr>\n",
              "  </thead>\n",
              "  <tbody>\n",
              "    <tr>\n",
              "      <th>Arizona Cardinals</th>\n",
              "      <td>188.430370</td>\n",
              "      <td>117.379626</td>\n",
              "      <td>4.816296</td>\n",
              "      <td>83.631852</td>\n",
              "      <td>21.500000</td>\n",
              "      <td>287.537407</td>\n",
              "      <td>7.334444</td>\n",
              "      <td>4.451296</td>\n",
              "      <td>3.592593</td>\n",
              "      <td>99.518519</td>\n",
              "    </tr>\n",
              "    <tr>\n",
              "      <th>Atlanta Falcons</th>\n",
              "      <td>187.335410</td>\n",
              "      <td>113.360913</td>\n",
              "      <td>4.763115</td>\n",
              "      <td>84.736066</td>\n",
              "      <td>21.852459</td>\n",
              "      <td>293.890492</td>\n",
              "      <td>7.326066</td>\n",
              "      <td>4.423115</td>\n",
              "      <td>4.000000</td>\n",
              "      <td>118.295082</td>\n",
              "    </tr>\n",
              "    <tr>\n",
              "      <th>Baltimore Ravens</th>\n",
              "      <td>188.277500</td>\n",
              "      <td>115.403821</td>\n",
              "      <td>4.787969</td>\n",
              "      <td>83.661250</td>\n",
              "      <td>21.578125</td>\n",
              "      <td>289.917188</td>\n",
              "      <td>7.273594</td>\n",
              "      <td>4.388438</td>\n",
              "      <td>4.203125</td>\n",
              "      <td>132.656250</td>\n",
              "    </tr>\n",
              "    <tr>\n",
              "      <th>Buffalo Bills</th>\n",
              "      <td>188.729697</td>\n",
              "      <td>114.587054</td>\n",
              "      <td>4.802879</td>\n",
              "      <td>83.165758</td>\n",
              "      <td>21.742424</td>\n",
              "      <td>287.327879</td>\n",
              "      <td>7.280152</td>\n",
              "      <td>4.396364</td>\n",
              "      <td>4.015152</td>\n",
              "      <td>116.969697</td>\n",
              "    </tr>\n",
              "    <tr>\n",
              "      <th>Carolina Panthers</th>\n",
              "      <td>188.902258</td>\n",
              "      <td>117.099992</td>\n",
              "      <td>4.831774</td>\n",
              "      <td>83.205484</td>\n",
              "      <td>22.064516</td>\n",
              "      <td>286.897097</td>\n",
              "      <td>7.322258</td>\n",
              "      <td>4.397097</td>\n",
              "      <td>4.112903</td>\n",
              "      <td>122.290323</td>\n",
              "    </tr>\n",
              "    <tr>\n",
              "      <th>Chicago Bears</th>\n",
              "      <td>186.740800</td>\n",
              "      <td>109.959862</td>\n",
              "      <td>4.704000</td>\n",
              "      <td>84.277200</td>\n",
              "      <td>19.880000</td>\n",
              "      <td>293.116000</td>\n",
              "      <td>7.232600</td>\n",
              "      <td>4.355400</td>\n",
              "      <td>3.500000</td>\n",
              "      <td>101.780000</td>\n",
              "    </tr>\n",
              "    <tr>\n",
              "      <th>Cincinnati Bengals</th>\n",
              "      <td>189.018333</td>\n",
              "      <td>114.592552</td>\n",
              "      <td>4.763333</td>\n",
              "      <td>85.238167</td>\n",
              "      <td>23.200000</td>\n",
              "      <td>293.793333</td>\n",
              "      <td>7.264667</td>\n",
              "      <td>4.356167</td>\n",
              "      <td>3.966667</td>\n",
              "      <td>117.850000</td>\n",
              "    </tr>\n",
              "    <tr>\n",
              "      <th>Cleveland Browns</th>\n",
              "      <td>187.390690</td>\n",
              "      <td>113.632709</td>\n",
              "      <td>4.786207</td>\n",
              "      <td>84.783448</td>\n",
              "      <td>21.672414</td>\n",
              "      <td>290.523448</td>\n",
              "      <td>7.217414</td>\n",
              "      <td>4.390517</td>\n",
              "      <td>4.034483</td>\n",
              "      <td>116.741379</td>\n",
              "    </tr>\n",
              "    <tr>\n",
              "      <th>Dallas Cowboys</th>\n",
              "      <td>188.061600</td>\n",
              "      <td>112.926356</td>\n",
              "      <td>4.777000</td>\n",
              "      <td>83.997800</td>\n",
              "      <td>20.700000</td>\n",
              "      <td>290.169600</td>\n",
              "      <td>7.250200</td>\n",
              "      <td>4.363000</td>\n",
              "      <td>4.160000</td>\n",
              "      <td>125.780000</td>\n",
              "    </tr>\n",
              "    <tr>\n",
              "      <th>Denver Broncos</th>\n",
              "      <td>188.101111</td>\n",
              "      <td>113.330894</td>\n",
              "      <td>4.784259</td>\n",
              "      <td>83.820000</td>\n",
              "      <td>21.092593</td>\n",
              "      <td>288.007778</td>\n",
              "      <td>7.259815</td>\n",
              "      <td>4.378889</td>\n",
              "      <td>3.888889</td>\n",
              "      <td>115.500000</td>\n",
              "    </tr>\n",
              "    <tr>\n",
              "      <th>Detroit Lions</th>\n",
              "      <td>188.583019</td>\n",
              "      <td>115.794430</td>\n",
              "      <td>4.796792</td>\n",
              "      <td>83.244906</td>\n",
              "      <td>21.886792</td>\n",
              "      <td>289.128679</td>\n",
              "      <td>7.304340</td>\n",
              "      <td>4.420943</td>\n",
              "      <td>3.566038</td>\n",
              "      <td>105.660377</td>\n",
              "    </tr>\n",
              "    <tr>\n",
              "      <th>Green Bay Packers</th>\n",
              "      <td>188.364928</td>\n",
              "      <td>115.968449</td>\n",
              "      <td>4.776667</td>\n",
              "      <td>83.267826</td>\n",
              "      <td>21.608696</td>\n",
              "      <td>287.977101</td>\n",
              "      <td>7.239565</td>\n",
              "      <td>4.387246</td>\n",
              "      <td>3.695652</td>\n",
              "      <td>112.927536</td>\n",
              "    </tr>\n",
              "    <tr>\n",
              "      <th>Houston Texans</th>\n",
              "      <td>187.418689</td>\n",
              "      <td>112.267830</td>\n",
              "      <td>4.728197</td>\n",
              "      <td>86.360000</td>\n",
              "      <td>21.786885</td>\n",
              "      <td>292.849508</td>\n",
              "      <td>7.177869</td>\n",
              "      <td>4.352623</td>\n",
              "      <td>3.754098</td>\n",
              "      <td>106.721311</td>\n",
              "    </tr>\n",
              "    <tr>\n",
              "      <th>Indianapolis Colts</th>\n",
              "      <td>186.460984</td>\n",
              "      <td>112.513216</td>\n",
              "      <td>4.766721</td>\n",
              "      <td>82.924754</td>\n",
              "      <td>22.229508</td>\n",
              "      <td>290.018033</td>\n",
              "      <td>7.271967</td>\n",
              "      <td>4.362459</td>\n",
              "      <td>3.885246</td>\n",
              "      <td>120.655738</td>\n",
              "    </tr>\n",
              "    <tr>\n",
              "      <th>Jacksonville Jaguars</th>\n",
              "      <td>186.800435</td>\n",
              "      <td>110.903334</td>\n",
              "      <td>4.713913</td>\n",
              "      <td>86.277174</td>\n",
              "      <td>21.000000</td>\n",
              "      <td>294.584783</td>\n",
              "      <td>7.213913</td>\n",
              "      <td>4.354130</td>\n",
              "      <td>3.739130</td>\n",
              "      <td>108.804348</td>\n",
              "    </tr>\n",
              "    <tr>\n",
              "      <th>Kansas City Chiefs</th>\n",
              "      <td>188.859583</td>\n",
              "      <td>116.535440</td>\n",
              "      <td>4.759167</td>\n",
              "      <td>86.412917</td>\n",
              "      <td>22.708333</td>\n",
              "      <td>292.682083</td>\n",
              "      <td>7.304375</td>\n",
              "      <td>4.418333</td>\n",
              "      <td>3.708333</td>\n",
              "      <td>108.062500</td>\n",
              "    </tr>\n",
              "    <tr>\n",
              "      <th>Los Angeles Chargers</th>\n",
              "      <td>193.886667</td>\n",
              "      <td>139.857647</td>\n",
              "      <td>5.170000</td>\n",
              "      <td>69.003333</td>\n",
              "      <td>25.000000</td>\n",
              "      <td>270.086667</td>\n",
              "      <td>7.636667</td>\n",
              "      <td>4.633333</td>\n",
              "      <td>3.666667</td>\n",
              "      <td>99.666667</td>\n",
              "    </tr>\n",
              "    <tr>\n",
              "      <th>Los Angeles Rams</th>\n",
              "      <td>184.573333</td>\n",
              "      <td>115.817252</td>\n",
              "      <td>4.930000</td>\n",
              "      <td>81.703333</td>\n",
              "      <td>21.000000</td>\n",
              "      <td>292.100000</td>\n",
              "      <td>7.263333</td>\n",
              "      <td>4.413333</td>\n",
              "      <td>4.666667</td>\n",
              "      <td>146.333333</td>\n",
              "    </tr>\n",
              "    <tr>\n",
              "      <th>Miami Dolphins</th>\n",
              "      <td>188.984194</td>\n",
              "      <td>114.868610</td>\n",
              "      <td>4.811290</td>\n",
              "      <td>82.754839</td>\n",
              "      <td>21.516129</td>\n",
              "      <td>289.519032</td>\n",
              "      <td>7.308226</td>\n",
              "      <td>4.395000</td>\n",
              "      <td>4.048387</td>\n",
              "      <td>121.145161</td>\n",
              "    </tr>\n",
              "    <tr>\n",
              "      <th>Minnesota Vikings</th>\n",
              "      <td>188.311692</td>\n",
              "      <td>116.552304</td>\n",
              "      <td>4.825231</td>\n",
              "      <td>83.605077</td>\n",
              "      <td>21.615385</td>\n",
              "      <td>286.433846</td>\n",
              "      <td>7.295385</td>\n",
              "      <td>4.409692</td>\n",
              "      <td>4.246154</td>\n",
              "      <td>125.907692</td>\n",
              "    </tr>\n",
              "    <tr>\n",
              "      <th>New England Patriots</th>\n",
              "      <td>187.362353</td>\n",
              "      <td>113.985094</td>\n",
              "      <td>4.792549</td>\n",
              "      <td>84.616863</td>\n",
              "      <td>20.921569</td>\n",
              "      <td>288.812941</td>\n",
              "      <td>7.248235</td>\n",
              "      <td>4.380000</td>\n",
              "      <td>3.764706</td>\n",
              "      <td>114.549020</td>\n",
              "    </tr>\n",
              "    <tr>\n",
              "      <th>New Orleans Saints</th>\n",
              "      <td>188.383333</td>\n",
              "      <td>116.540840</td>\n",
              "      <td>4.796429</td>\n",
              "      <td>82.670952</td>\n",
              "      <td>21.595238</td>\n",
              "      <td>290.950952</td>\n",
              "      <td>7.359762</td>\n",
              "      <td>4.415238</td>\n",
              "      <td>3.761905</td>\n",
              "      <td>110.166667</td>\n",
              "    </tr>\n",
              "    <tr>\n",
              "      <th>New York Giants</th>\n",
              "      <td>188.940351</td>\n",
              "      <td>113.581121</td>\n",
              "      <td>4.731754</td>\n",
              "      <td>85.379649</td>\n",
              "      <td>21.771930</td>\n",
              "      <td>290.451228</td>\n",
              "      <td>7.268596</td>\n",
              "      <td>4.382456</td>\n",
              "      <td>3.912281</td>\n",
              "      <td>118.403509</td>\n",
              "    </tr>\n",
              "    <tr>\n",
              "      <th>New York Jets</th>\n",
              "      <td>187.589583</td>\n",
              "      <td>112.661005</td>\n",
              "      <td>4.736042</td>\n",
              "      <td>85.566250</td>\n",
              "      <td>21.166667</td>\n",
              "      <td>292.258750</td>\n",
              "      <td>7.265417</td>\n",
              "      <td>4.370000</td>\n",
              "      <td>4.000000</td>\n",
              "      <td>120.791667</td>\n",
              "    </tr>\n",
              "    <tr>\n",
              "      <th>Oakland Raiders</th>\n",
              "      <td>190.730909</td>\n",
              "      <td>118.387609</td>\n",
              "      <td>4.806182</td>\n",
              "      <td>82.480727</td>\n",
              "      <td>21.163636</td>\n",
              "      <td>287.805091</td>\n",
              "      <td>7.323273</td>\n",
              "      <td>4.435091</td>\n",
              "      <td>4.018182</td>\n",
              "      <td>117.727273</td>\n",
              "    </tr>\n",
              "    <tr>\n",
              "      <th>Philadelphia Eagles</th>\n",
              "      <td>187.157895</td>\n",
              "      <td>115.148800</td>\n",
              "      <td>4.806140</td>\n",
              "      <td>83.418947</td>\n",
              "      <td>22.438596</td>\n",
              "      <td>287.064561</td>\n",
              "      <td>7.288772</td>\n",
              "      <td>4.386842</td>\n",
              "      <td>4.105263</td>\n",
              "      <td>124.824561</td>\n",
              "    </tr>\n",
              "    <tr>\n",
              "      <th>Pittsburgh Steelers</th>\n",
              "      <td>187.285313</td>\n",
              "      <td>113.603627</td>\n",
              "      <td>4.820469</td>\n",
              "      <td>84.375625</td>\n",
              "      <td>21.359375</td>\n",
              "      <td>286.980312</td>\n",
              "      <td>7.262969</td>\n",
              "      <td>4.376406</td>\n",
              "      <td>4.203125</td>\n",
              "      <td>131.968750</td>\n",
              "    </tr>\n",
              "    <tr>\n",
              "      <th>San Diego Chargers</th>\n",
              "      <td>186.246977</td>\n",
              "      <td>113.841136</td>\n",
              "      <td>4.763721</td>\n",
              "      <td>83.317907</td>\n",
              "      <td>22.116279</td>\n",
              "      <td>287.315349</td>\n",
              "      <td>7.221860</td>\n",
              "      <td>4.341395</td>\n",
              "      <td>3.813953</td>\n",
              "      <td>110.302326</td>\n",
              "    </tr>\n",
              "    <tr>\n",
              "      <th>San Francisco 49ers</th>\n",
              "      <td>187.677778</td>\n",
              "      <td>114.514074</td>\n",
              "      <td>4.776190</td>\n",
              "      <td>84.001429</td>\n",
              "      <td>22.095238</td>\n",
              "      <td>290.326032</td>\n",
              "      <td>7.263016</td>\n",
              "      <td>4.387778</td>\n",
              "      <td>3.936508</td>\n",
              "      <td>118.777778</td>\n",
              "    </tr>\n",
              "    <tr>\n",
              "      <th>Seattle Seahawks</th>\n",
              "      <td>188.460303</td>\n",
              "      <td>115.205589</td>\n",
              "      <td>4.780909</td>\n",
              "      <td>83.396667</td>\n",
              "      <td>22.090909</td>\n",
              "      <td>288.982727</td>\n",
              "      <td>7.264848</td>\n",
              "      <td>4.357424</td>\n",
              "      <td>3.893939</td>\n",
              "      <td>119.318182</td>\n",
              "    </tr>\n",
              "    <tr>\n",
              "      <th>St. Louis Rams</th>\n",
              "      <td>187.569231</td>\n",
              "      <td>111.775627</td>\n",
              "      <td>4.744231</td>\n",
              "      <td>83.355962</td>\n",
              "      <td>21.230769</td>\n",
              "      <td>290.683462</td>\n",
              "      <td>7.237115</td>\n",
              "      <td>4.353462</td>\n",
              "      <td>3.826923</td>\n",
              "      <td>111.211538</td>\n",
              "    </tr>\n",
              "    <tr>\n",
              "      <th>Tampa Bay Buccaneers</th>\n",
              "      <td>188.121270</td>\n",
              "      <td>116.206045</td>\n",
              "      <td>4.813175</td>\n",
              "      <td>82.953175</td>\n",
              "      <td>22.238095</td>\n",
              "      <td>287.987619</td>\n",
              "      <td>7.305238</td>\n",
              "      <td>4.401746</td>\n",
              "      <td>4.333333</td>\n",
              "      <td>130.206349</td>\n",
              "    </tr>\n",
              "    <tr>\n",
              "      <th>Tennessee Titans</th>\n",
              "      <td>188.443810</td>\n",
              "      <td>116.112447</td>\n",
              "      <td>4.783175</td>\n",
              "      <td>82.812063</td>\n",
              "      <td>22.206349</td>\n",
              "      <td>291.898413</td>\n",
              "      <td>7.219365</td>\n",
              "      <td>4.323016</td>\n",
              "      <td>3.873016</td>\n",
              "      <td>114.365079</td>\n",
              "    </tr>\n",
              "    <tr>\n",
              "      <th>Washington Redskins</th>\n",
              "      <td>186.795833</td>\n",
              "      <td>112.405859</td>\n",
              "      <td>4.771458</td>\n",
              "      <td>83.793542</td>\n",
              "      <td>19.875000</td>\n",
              "      <td>288.290000</td>\n",
              "      <td>7.232917</td>\n",
              "      <td>4.347708</td>\n",
              "      <td>4.729167</td>\n",
              "      <td>144.770833</td>\n",
              "    </tr>\n",
              "  </tbody>\n",
              "</table>\n",
              "</div>"
            ],
            "text/plain": [
              "                              Ht          Wt  ...     Round        Pick\n",
              "Team                                          ...                      \n",
              "Arizona Cardinals     188.430370  117.379626  ...  3.592593   99.518519\n",
              "Atlanta Falcons       187.335410  113.360913  ...  4.000000  118.295082\n",
              "Baltimore Ravens      188.277500  115.403821  ...  4.203125  132.656250\n",
              "Buffalo Bills         188.729697  114.587054  ...  4.015152  116.969697\n",
              "Carolina Panthers     188.902258  117.099992  ...  4.112903  122.290323\n",
              "Chicago Bears         186.740800  109.959862  ...  3.500000  101.780000\n",
              "Cincinnati Bengals    189.018333  114.592552  ...  3.966667  117.850000\n",
              "Cleveland Browns      187.390690  113.632709  ...  4.034483  116.741379\n",
              "Dallas Cowboys        188.061600  112.926356  ...  4.160000  125.780000\n",
              "Denver Broncos        188.101111  113.330894  ...  3.888889  115.500000\n",
              "Detroit Lions         188.583019  115.794430  ...  3.566038  105.660377\n",
              "Green Bay Packers     188.364928  115.968449  ...  3.695652  112.927536\n",
              "Houston Texans        187.418689  112.267830  ...  3.754098  106.721311\n",
              "Indianapolis Colts    186.460984  112.513216  ...  3.885246  120.655738\n",
              "Jacksonville Jaguars  186.800435  110.903334  ...  3.739130  108.804348\n",
              "Kansas City Chiefs    188.859583  116.535440  ...  3.708333  108.062500\n",
              "Los Angeles Chargers  193.886667  139.857647  ...  3.666667   99.666667\n",
              "Los Angeles Rams      184.573333  115.817252  ...  4.666667  146.333333\n",
              "Miami Dolphins        188.984194  114.868610  ...  4.048387  121.145161\n",
              "Minnesota Vikings     188.311692  116.552304  ...  4.246154  125.907692\n",
              "New England Patriots  187.362353  113.985094  ...  3.764706  114.549020\n",
              "New Orleans Saints    188.383333  116.540840  ...  3.761905  110.166667\n",
              "New York Giants       188.940351  113.581121  ...  3.912281  118.403509\n",
              "New York Jets         187.589583  112.661005  ...  4.000000  120.791667\n",
              "Oakland Raiders       190.730909  118.387609  ...  4.018182  117.727273\n",
              "Philadelphia Eagles   187.157895  115.148800  ...  4.105263  124.824561\n",
              "Pittsburgh Steelers   187.285313  113.603627  ...  4.203125  131.968750\n",
              "San Diego Chargers    186.246977  113.841136  ...  3.813953  110.302326\n",
              "San Francisco 49ers   187.677778  114.514074  ...  3.936508  118.777778\n",
              "Seattle Seahawks      188.460303  115.205589  ...  3.893939  119.318182\n",
              "St. Louis Rams        187.569231  111.775627  ...  3.826923  111.211538\n",
              "Tampa Bay Buccaneers  188.121270  116.206045  ...  4.333333  130.206349\n",
              "Tennessee Titans      188.443810  116.112447  ...  3.873016  114.365079\n",
              "Washington Redskins   186.795833  112.405859  ...  4.729167  144.770833\n",
              "\n",
              "[34 rows x 10 columns]"
            ]
          },
          "metadata": {
            "tags": []
          },
          "execution_count": 31
        }
      ]
    },
    {
      "cell_type": "markdown",
      "metadata": {
        "id": "waxzbXDcR02A",
        "colab_type": "text"
      },
      "source": [
        "From above output it looks like the different teams *generally* have similar statistics. This might imply that the teams look for similar physical stats in their player picks. Thus it also becomes interesting to look at the different positions.\n",
        "\n",
        "Similar to the above code, we can group by the position variable, 'Pos', and take the mean of the remaining relevant variables."
      ]
    },
    {
      "cell_type": "code",
      "metadata": {
        "id": "j58hCAno8nV_",
        "colab_type": "code",
        "outputId": "b3030ed6-6787-44fa-952a-d0bc46fc7d9b",
        "colab": {
          "base_uri": "https://localhost:8080/",
          "height": 576
        }
      },
      "source": [
        "df_pre.groupby('Pos')['Ht','Wt','Forty','Vertical','BenchReps','BroadJump','Cone','Shuttle','Round','Pick'].mean()"
      ],
      "execution_count": 0,
      "outputs": [
        {
          "output_type": "execute_result",
          "data": {
            "text/html": [
              "<div>\n",
              "<style scoped>\n",
              "    .dataframe tbody tr th:only-of-type {\n",
              "        vertical-align: middle;\n",
              "    }\n",
              "\n",
              "    .dataframe tbody tr th {\n",
              "        vertical-align: top;\n",
              "    }\n",
              "\n",
              "    .dataframe thead th {\n",
              "        text-align: right;\n",
              "    }\n",
              "</style>\n",
              "<table border=\"1\" class=\"dataframe\">\n",
              "  <thead>\n",
              "    <tr style=\"text-align: right;\">\n",
              "      <th></th>\n",
              "      <th>Ht</th>\n",
              "      <th>Wt</th>\n",
              "      <th>Forty</th>\n",
              "      <th>Vertical</th>\n",
              "      <th>BenchReps</th>\n",
              "      <th>BroadJump</th>\n",
              "      <th>Cone</th>\n",
              "      <th>Shuttle</th>\n",
              "      <th>Round</th>\n",
              "      <th>Pick</th>\n",
              "    </tr>\n",
              "    <tr>\n",
              "      <th>Pos</th>\n",
              "      <th></th>\n",
              "      <th></th>\n",
              "      <th></th>\n",
              "      <th></th>\n",
              "      <th></th>\n",
              "      <th></th>\n",
              "      <th></th>\n",
              "      <th></th>\n",
              "      <th></th>\n",
              "      <th></th>\n",
              "    </tr>\n",
              "  </thead>\n",
              "  <tbody>\n",
              "    <tr>\n",
              "      <th>C</th>\n",
              "      <td>191.599403</td>\n",
              "      <td>137.953011</td>\n",
              "      <td>5.230000</td>\n",
              "      <td>72.352090</td>\n",
              "      <td>26.537313</td>\n",
              "      <td>259.800299</td>\n",
              "      <td>7.660746</td>\n",
              "      <td>4.610448</td>\n",
              "      <td>4.044776</td>\n",
              "      <td>123.328358</td>\n",
              "    </tr>\n",
              "    <tr>\n",
              "      <th>CB</th>\n",
              "      <td>180.534505</td>\n",
              "      <td>87.637315</td>\n",
              "      <td>4.469505</td>\n",
              "      <td>91.920541</td>\n",
              "      <td>14.797297</td>\n",
              "      <td>310.314775</td>\n",
              "      <td>6.924369</td>\n",
              "      <td>4.145495</td>\n",
              "      <td>3.675676</td>\n",
              "      <td>106.171171</td>\n",
              "    </tr>\n",
              "    <tr>\n",
              "      <th>DE</th>\n",
              "      <td>192.688723</td>\n",
              "      <td>121.642375</td>\n",
              "      <td>4.798085</td>\n",
              "      <td>85.110266</td>\n",
              "      <td>24.340426</td>\n",
              "      <td>292.978191</td>\n",
              "      <td>7.288564</td>\n",
              "      <td>4.403298</td>\n",
              "      <td>3.787234</td>\n",
              "      <td>112.111702</td>\n",
              "    </tr>\n",
              "    <tr>\n",
              "      <th>DT</th>\n",
              "      <td>190.376848</td>\n",
              "      <td>139.791670</td>\n",
              "      <td>5.068727</td>\n",
              "      <td>75.053152</td>\n",
              "      <td>28.096970</td>\n",
              "      <td>268.070061</td>\n",
              "      <td>7.669091</td>\n",
              "      <td>4.612242</td>\n",
              "      <td>3.654545</td>\n",
              "      <td>106.260606</td>\n",
              "    </tr>\n",
              "    <tr>\n",
              "      <th>FB</th>\n",
              "      <td>183.745909</td>\n",
              "      <td>110.243564</td>\n",
              "      <td>4.737045</td>\n",
              "      <td>84.339545</td>\n",
              "      <td>24.000000</td>\n",
              "      <td>288.751818</td>\n",
              "      <td>7.266136</td>\n",
              "      <td>4.347727</td>\n",
              "      <td>5.318182</td>\n",
              "      <td>164.931818</td>\n",
              "    </tr>\n",
              "    <tr>\n",
              "      <th>FS</th>\n",
              "      <td>184.603571</td>\n",
              "      <td>93.899020</td>\n",
              "      <td>4.542857</td>\n",
              "      <td>91.833095</td>\n",
              "      <td>16.178571</td>\n",
              "      <td>308.277381</td>\n",
              "      <td>6.976310</td>\n",
              "      <td>4.177619</td>\n",
              "      <td>4.023810</td>\n",
              "      <td>119.738095</td>\n",
              "    </tr>\n",
              "    <tr>\n",
              "      <th>ILB</th>\n",
              "      <td>186.548889</td>\n",
              "      <td>109.522958</td>\n",
              "      <td>4.710741</td>\n",
              "      <td>85.654444</td>\n",
              "      <td>22.851852</td>\n",
              "      <td>294.295062</td>\n",
              "      <td>7.142099</td>\n",
              "      <td>4.266173</td>\n",
              "      <td>4.160494</td>\n",
              "      <td>125.209877</td>\n",
              "    </tr>\n",
              "    <tr>\n",
              "      <th>LS</th>\n",
              "      <td>187.960000</td>\n",
              "      <td>104.779837</td>\n",
              "      <td>4.930000</td>\n",
              "      <td>73.660000</td>\n",
              "      <td>21.000000</td>\n",
              "      <td>299.720000</td>\n",
              "      <td>7.030000</td>\n",
              "      <td>4.330000</td>\n",
              "      <td>6.000000</td>\n",
              "      <td>189.000000</td>\n",
              "    </tr>\n",
              "    <tr>\n",
              "      <th>OG</th>\n",
              "      <td>192.923664</td>\n",
              "      <td>142.116376</td>\n",
              "      <td>5.249389</td>\n",
              "      <td>71.469008</td>\n",
              "      <td>26.526718</td>\n",
              "      <td>258.692214</td>\n",
              "      <td>7.825649</td>\n",
              "      <td>4.719084</td>\n",
              "      <td>4.137405</td>\n",
              "      <td>125.106870</td>\n",
              "    </tr>\n",
              "    <tr>\n",
              "      <th>OLB</th>\n",
              "      <td>187.647821</td>\n",
              "      <td>109.913794</td>\n",
              "      <td>4.655587</td>\n",
              "      <td>88.545251</td>\n",
              "      <td>23.178771</td>\n",
              "      <td>300.344358</td>\n",
              "      <td>7.104022</td>\n",
              "      <td>4.272905</td>\n",
              "      <td>3.793296</td>\n",
              "      <td>111.910615</td>\n",
              "    </tr>\n",
              "    <tr>\n",
              "      <th>OT</th>\n",
              "      <td>196.897540</td>\n",
              "      <td>142.973770</td>\n",
              "      <td>5.213369</td>\n",
              "      <td>72.512246</td>\n",
              "      <td>24.705882</td>\n",
              "      <td>262.312727</td>\n",
              "      <td>7.800909</td>\n",
              "      <td>4.725134</td>\n",
              "      <td>3.732620</td>\n",
              "      <td>109.636364</td>\n",
              "    </tr>\n",
              "    <tr>\n",
              "      <th>QB</th>\n",
              "      <td>189.230000</td>\n",
              "      <td>103.192264</td>\n",
              "      <td>4.810000</td>\n",
              "      <td>80.010000</td>\n",
              "      <td>21.000000</td>\n",
              "      <td>270.510000</td>\n",
              "      <td>7.235000</td>\n",
              "      <td>4.405000</td>\n",
              "      <td>4.500000</td>\n",
              "      <td>136.500000</td>\n",
              "    </tr>\n",
              "    <tr>\n",
              "      <th>RB</th>\n",
              "      <td>179.187092</td>\n",
              "      <td>97.885877</td>\n",
              "      <td>4.517305</td>\n",
              "      <td>89.215248</td>\n",
              "      <td>20.148936</td>\n",
              "      <td>301.341277</td>\n",
              "      <td>7.021348</td>\n",
              "      <td>4.241064</td>\n",
              "      <td>4.070922</td>\n",
              "      <td>122.822695</td>\n",
              "    </tr>\n",
              "    <tr>\n",
              "      <th>SS</th>\n",
              "      <td>182.762769</td>\n",
              "      <td>94.772892</td>\n",
              "      <td>4.552462</td>\n",
              "      <td>90.502154</td>\n",
              "      <td>17.000000</td>\n",
              "      <td>303.823077</td>\n",
              "      <td>6.955077</td>\n",
              "      <td>4.176769</td>\n",
              "      <td>4.538462</td>\n",
              "      <td>142.169231</td>\n",
              "    </tr>\n",
              "    <tr>\n",
              "      <th>TE</th>\n",
              "      <td>193.526833</td>\n",
              "      <td>115.227582</td>\n",
              "      <td>4.729500</td>\n",
              "      <td>85.682667</td>\n",
              "      <td>21.183333</td>\n",
              "      <td>293.878000</td>\n",
              "      <td>7.156750</td>\n",
              "      <td>4.331000</td>\n",
              "      <td>4.091667</td>\n",
              "      <td>124.058333</td>\n",
              "    </tr>\n",
              "    <tr>\n",
              "      <th>WR</th>\n",
              "      <td>184.176276</td>\n",
              "      <td>91.894686</td>\n",
              "      <td>4.467310</td>\n",
              "      <td>90.739310</td>\n",
              "      <td>14.675862</td>\n",
              "      <td>308.706345</td>\n",
              "      <td>6.888828</td>\n",
              "      <td>4.224621</td>\n",
              "      <td>4.137931</td>\n",
              "      <td>126.124138</td>\n",
              "    </tr>\n",
              "  </tbody>\n",
              "</table>\n",
              "</div>"
            ],
            "text/plain": [
              "             Ht          Wt     Forty  ...   Shuttle     Round        Pick\n",
              "Pos                                    ...                                \n",
              "C    191.599403  137.953011  5.230000  ...  4.610448  4.044776  123.328358\n",
              "CB   180.534505   87.637315  4.469505  ...  4.145495  3.675676  106.171171\n",
              "DE   192.688723  121.642375  4.798085  ...  4.403298  3.787234  112.111702\n",
              "DT   190.376848  139.791670  5.068727  ...  4.612242  3.654545  106.260606\n",
              "FB   183.745909  110.243564  4.737045  ...  4.347727  5.318182  164.931818\n",
              "FS   184.603571   93.899020  4.542857  ...  4.177619  4.023810  119.738095\n",
              "ILB  186.548889  109.522958  4.710741  ...  4.266173  4.160494  125.209877\n",
              "LS   187.960000  104.779837  4.930000  ...  4.330000  6.000000  189.000000\n",
              "OG   192.923664  142.116376  5.249389  ...  4.719084  4.137405  125.106870\n",
              "OLB  187.647821  109.913794  4.655587  ...  4.272905  3.793296  111.910615\n",
              "OT   196.897540  142.973770  5.213369  ...  4.725134  3.732620  109.636364\n",
              "QB   189.230000  103.192264  4.810000  ...  4.405000  4.500000  136.500000\n",
              "RB   179.187092   97.885877  4.517305  ...  4.241064  4.070922  122.822695\n",
              "SS   182.762769   94.772892  4.552462  ...  4.176769  4.538462  142.169231\n",
              "TE   193.526833  115.227582  4.729500  ...  4.331000  4.091667  124.058333\n",
              "WR   184.176276   91.894686  4.467310  ...  4.224621  4.137931  126.124138\n",
              "\n",
              "[16 rows x 10 columns]"
            ]
          },
          "metadata": {
            "tags": []
          },
          "execution_count": 32
        }
      ]
    },
    {
      "cell_type": "markdown",
      "metadata": {
        "id": "ANcM4D8FSfyV",
        "colab_type": "text"
      },
      "source": [
        "From above output it becomes very clear, that players playing different positions also have different physical traits. One of the most extreme examples is the positions CB and OG. Looking at those two specific positions, it becomes clear that CB is generally smaller, lighter, can't take as many bench reps, but they can jump higher.\n",
        "\n",
        "Those results points towards the following hypothesis:\n",
        "\n",
        "**Player positions implies different skills, thus requiring different physical attributes.**\n",
        "\n"
      ]
    },
    {
      "cell_type": "markdown",
      "metadata": {
        "id": "nXCdjb6ZXCHh",
        "colab_type": "text"
      },
      "source": [
        "## Unsupervised learning\n",
        "Focusing on above hypothesis, we can try to use unsupervised learning to see, if the data itself is capable of distinguishing the different players' positions based on their physical stats.\n",
        "\n",
        "Thus our first step will be to make a new dataframe, df_u, based on the original dataframe, df, as defined earlier. Following this, we will be transforming the 'Pos' variable into dummy variables using the get_dummies function, specifying the drop_first statement as True."
      ]
    },
    {
      "cell_type": "code",
      "metadata": {
        "id": "tXaFtkVVXB2n",
        "colab_type": "code",
        "outputId": "12442bd0-a52f-4cd0-909c-6a3feb312574",
        "colab": {
          "base_uri": "https://localhost:8080/",
          "height": 224
        }
      },
      "source": [
        "\n",
        "df_u = pd.get_dummies(df, drop_first=True)\n",
        "df_u.head()"
      ],
      "execution_count": 0,
      "outputs": [
        {
          "output_type": "execute_result",
          "data": {
            "text/html": [
              "<div>\n",
              "<style scoped>\n",
              "    .dataframe tbody tr th:only-of-type {\n",
              "        vertical-align: middle;\n",
              "    }\n",
              "\n",
              "    .dataframe tbody tr th {\n",
              "        vertical-align: top;\n",
              "    }\n",
              "\n",
              "    .dataframe thead th {\n",
              "        text-align: right;\n",
              "    }\n",
              "</style>\n",
              "<table border=\"1\" class=\"dataframe\">\n",
              "  <thead>\n",
              "    <tr style=\"text-align: right;\">\n",
              "      <th></th>\n",
              "      <th>Ht</th>\n",
              "      <th>Wt</th>\n",
              "      <th>Forty</th>\n",
              "      <th>Vertical</th>\n",
              "      <th>BenchReps</th>\n",
              "      <th>BroadJump</th>\n",
              "      <th>Cone</th>\n",
              "      <th>Shuttle</th>\n",
              "      <th>Pos_CB</th>\n",
              "      <th>Pos_DE</th>\n",
              "      <th>Pos_DT</th>\n",
              "      <th>Pos_EDGE</th>\n",
              "      <th>Pos_FB</th>\n",
              "      <th>Pos_FS</th>\n",
              "      <th>Pos_G</th>\n",
              "      <th>Pos_ILB</th>\n",
              "      <th>Pos_LB</th>\n",
              "      <th>Pos_LS</th>\n",
              "      <th>Pos_OG</th>\n",
              "      <th>Pos_OL</th>\n",
              "      <th>Pos_OLB</th>\n",
              "      <th>Pos_OT</th>\n",
              "      <th>Pos_QB</th>\n",
              "      <th>Pos_RB</th>\n",
              "      <th>Pos_S</th>\n",
              "      <th>Pos_SS</th>\n",
              "      <th>Pos_TE</th>\n",
              "      <th>Pos_WR</th>\n",
              "    </tr>\n",
              "  </thead>\n",
              "  <tbody>\n",
              "    <tr>\n",
              "      <th>2</th>\n",
              "      <td>193.04</td>\n",
              "      <td>151.499852</td>\n",
              "      <td>5.56</td>\n",
              "      <td>63.50</td>\n",
              "      <td>23.0</td>\n",
              "      <td>238.76</td>\n",
              "      <td>8.48</td>\n",
              "      <td>4.98</td>\n",
              "      <td>0</td>\n",
              "      <td>0</td>\n",
              "      <td>0</td>\n",
              "      <td>0</td>\n",
              "      <td>0</td>\n",
              "      <td>0</td>\n",
              "      <td>0</td>\n",
              "      <td>0</td>\n",
              "      <td>0</td>\n",
              "      <td>0</td>\n",
              "      <td>0</td>\n",
              "      <td>0</td>\n",
              "      <td>0</td>\n",
              "      <td>1</td>\n",
              "      <td>0</td>\n",
              "      <td>0</td>\n",
              "      <td>0</td>\n",
              "      <td>0</td>\n",
              "      <td>0</td>\n",
              "      <td>0</td>\n",
              "    </tr>\n",
              "    <tr>\n",
              "      <th>7</th>\n",
              "      <td>182.88</td>\n",
              "      <td>107.501392</td>\n",
              "      <td>4.72</td>\n",
              "      <td>78.74</td>\n",
              "      <td>21.0</td>\n",
              "      <td>284.48</td>\n",
              "      <td>7.96</td>\n",
              "      <td>4.39</td>\n",
              "      <td>0</td>\n",
              "      <td>0</td>\n",
              "      <td>0</td>\n",
              "      <td>0</td>\n",
              "      <td>0</td>\n",
              "      <td>0</td>\n",
              "      <td>0</td>\n",
              "      <td>0</td>\n",
              "      <td>0</td>\n",
              "      <td>0</td>\n",
              "      <td>0</td>\n",
              "      <td>0</td>\n",
              "      <td>1</td>\n",
              "      <td>0</td>\n",
              "      <td>0</td>\n",
              "      <td>0</td>\n",
              "      <td>0</td>\n",
              "      <td>0</td>\n",
              "      <td>0</td>\n",
              "      <td>0</td>\n",
              "    </tr>\n",
              "    <tr>\n",
              "      <th>9</th>\n",
              "      <td>175.26</td>\n",
              "      <td>79.378665</td>\n",
              "      <td>4.44</td>\n",
              "      <td>88.90</td>\n",
              "      <td>17.0</td>\n",
              "      <td>302.26</td>\n",
              "      <td>7.03</td>\n",
              "      <td>4.14</td>\n",
              "      <td>1</td>\n",
              "      <td>0</td>\n",
              "      <td>0</td>\n",
              "      <td>0</td>\n",
              "      <td>0</td>\n",
              "      <td>0</td>\n",
              "      <td>0</td>\n",
              "      <td>0</td>\n",
              "      <td>0</td>\n",
              "      <td>0</td>\n",
              "      <td>0</td>\n",
              "      <td>0</td>\n",
              "      <td>0</td>\n",
              "      <td>0</td>\n",
              "      <td>0</td>\n",
              "      <td>0</td>\n",
              "      <td>0</td>\n",
              "      <td>0</td>\n",
              "      <td>0</td>\n",
              "      <td>0</td>\n",
              "    </tr>\n",
              "    <tr>\n",
              "      <th>11</th>\n",
              "      <td>198.12</td>\n",
              "      <td>141.520819</td>\n",
              "      <td>5.34</td>\n",
              "      <td>71.12</td>\n",
              "      <td>20.0</td>\n",
              "      <td>243.84</td>\n",
              "      <td>7.72</td>\n",
              "      <td>4.73</td>\n",
              "      <td>0</td>\n",
              "      <td>0</td>\n",
              "      <td>0</td>\n",
              "      <td>0</td>\n",
              "      <td>0</td>\n",
              "      <td>0</td>\n",
              "      <td>0</td>\n",
              "      <td>0</td>\n",
              "      <td>0</td>\n",
              "      <td>0</td>\n",
              "      <td>0</td>\n",
              "      <td>0</td>\n",
              "      <td>0</td>\n",
              "      <td>1</td>\n",
              "      <td>0</td>\n",
              "      <td>0</td>\n",
              "      <td>0</td>\n",
              "      <td>0</td>\n",
              "      <td>0</td>\n",
              "      <td>0</td>\n",
              "    </tr>\n",
              "    <tr>\n",
              "      <th>12</th>\n",
              "      <td>182.88</td>\n",
              "      <td>94.347213</td>\n",
              "      <td>4.62</td>\n",
              "      <td>88.90</td>\n",
              "      <td>10.0</td>\n",
              "      <td>289.56</td>\n",
              "      <td>6.92</td>\n",
              "      <td>4.32</td>\n",
              "      <td>0</td>\n",
              "      <td>0</td>\n",
              "      <td>0</td>\n",
              "      <td>0</td>\n",
              "      <td>0</td>\n",
              "      <td>1</td>\n",
              "      <td>0</td>\n",
              "      <td>0</td>\n",
              "      <td>0</td>\n",
              "      <td>0</td>\n",
              "      <td>0</td>\n",
              "      <td>0</td>\n",
              "      <td>0</td>\n",
              "      <td>0</td>\n",
              "      <td>0</td>\n",
              "      <td>0</td>\n",
              "      <td>0</td>\n",
              "      <td>0</td>\n",
              "      <td>0</td>\n",
              "      <td>0</td>\n",
              "    </tr>\n",
              "  </tbody>\n",
              "</table>\n",
              "</div>"
            ],
            "text/plain": [
              "        Ht          Wt  Forty  Vertical  ...  Pos_S  Pos_SS  Pos_TE  Pos_WR\n",
              "2   193.04  151.499852   5.56     63.50  ...      0       0       0       0\n",
              "7   182.88  107.501392   4.72     78.74  ...      0       0       0       0\n",
              "9   175.26   79.378665   4.44     88.90  ...      0       0       0       0\n",
              "11  198.12  141.520819   5.34     71.12  ...      0       0       0       0\n",
              "12  182.88   94.347213   4.62     88.90  ...      0       0       0       0\n",
              "\n",
              "[5 rows x 28 columns]"
            ]
          },
          "metadata": {
            "tags": []
          },
          "execution_count": 33
        }
      ]
    },
    {
      "cell_type": "markdown",
      "metadata": {
        "id": "FNUKDjsHsKpO",
        "colab_type": "text"
      },
      "source": [
        "To avoid overspecification we reduce the dataset to 'fundamentals' by excluding stats that could be derived. That is to say, a player may be picked first for a specific position becaseu of physical stats, so including both physical stats and position, may lead to overspecification. Before running unsupervised machinelearning, we reduce the data to fundamental physical stats."
      ]
    },
    {
      "cell_type": "markdown",
      "metadata": {
        "id": "QaGKB0Uccy6c",
        "colab_type": "text"
      },
      "source": [
        "We will now be scaling our variables, by using the StandardScaler function. Scaling is important when using distance based models, as KMeans is. It can also be a good idea to scale your data, if the different variables have large differences in their values.\n",
        "\n",
        "After scaling we use the elbow method on the inertias plot, to determine a rightful amount of clusters."
      ]
    },
    {
      "cell_type": "code",
      "metadata": {
        "id": "CWa8e5Owc0Pv",
        "colab_type": "code",
        "colab": {}
      },
      "source": [
        "ks = range(1, 15)\n",
        "inertias = []\n",
        "scale = StandardScaler()\n",
        "sample = df_u\n",
        "scale.fit(sample)\n",
        "samples = scale.transform(sample)\n",
        "\n",
        "for i in ks:\n",
        "    model = KMeans(n_clusters=i)\n",
        "    model.fit(samples)\n",
        "    inertias.append(model.inertia_)"
      ],
      "execution_count": 0,
      "outputs": []
    },
    {
      "cell_type": "code",
      "metadata": {
        "id": "m64sJeu3ekZD",
        "colab_type": "code",
        "outputId": "776eb69b-27e0-4a6e-9d8b-92214020ba7b",
        "colab": {
          "base_uri": "https://localhost:8080/",
          "height": 718
        }
      },
      "source": [
        "plt.figure(figsize=(20,12))\n",
        "plt.plot(ks, inertias, '-o')\n",
        "plt.xlabel('number of clusters, i')\n",
        "plt.ylabel('inertia')\n",
        "plt.xticks(ks)\n",
        "plt.show()"
      ],
      "execution_count": 0,
      "outputs": [
        {
          "output_type": "display_data",
          "data": {
            "image/png": "[encoded data removed]",
            "text/plain": [
              "<Figure size 1440x864 with 1 Axes>"
            ]
          },
          "metadata": {
            "tags": []
          }
        }
      ]
    },
    {
      "cell_type": "markdown",
      "metadata": {
        "id": "fPU2jUSQg_mm",
        "colab_type": "text"
      },
      "source": [
        "Looking at above plot we determine k clusters = 2, thus we want to use a total of 2 clusters.\n"
      ]
    },
    {
      "cell_type": "code",
      "metadata": {
        "id": "zFAO_IFEiNzL",
        "colab_type": "code",
        "colab": {}
      },
      "source": [
        "model = KMeans(n_clusters=2)\n",
        "model.fit(samples)\n",
        "labels = model.predict(samples)"
      ],
      "execution_count": 0,
      "outputs": []
    },
    {
      "cell_type": "markdown",
      "metadata": {
        "id": "TlrEW3kywCdm",
        "colab_type": "text"
      },
      "source": [
        "Now we want to use the PCA algorithm on our data. Principal components analysis is a hepful technique in order to make fundamental dimension reduction. Thus it helps us by showing how many PCA features we will include in further analysis."
      ]
    },
    {
      "cell_type": "code",
      "metadata": {
        "id": "RXXlLKVov_r-",
        "colab_type": "code",
        "outputId": "81c7fc6a-3c2e-4050-a32c-1092314efa90",
        "colab": {
          "base_uri": "https://localhost:8080/",
          "height": 295
        }
      },
      "source": [
        "\n",
        "#Fitting the PCA algorithm with our Data\n",
        "pca = PCA().fit(samples)\n",
        "#Plotting the Cumulative Summation of the Explained Variance\n",
        "plt.figure()\n",
        "plt.plot(np.cumsum(pca.explained_variance_ratio_))\n",
        "plt.xlabel('Number of Components')\n",
        "plt.ylabel('Variance (%)') #for each component\n",
        "plt.title('PCA component selection')\n",
        "plt.show()"
      ],
      "execution_count": 0,
      "outputs": [
        {
          "output_type": "display_data",
          "data": {
            "image/png": "[encoded data removed]",
            "text/plain": [
              "<Figure size 432x288 with 1 Axes>"
            ]
          },
          "metadata": {
            "tags": []
          }
        }
      ]
    },
    {
      "cell_type": "markdown",
      "metadata": {
        "id": "CZEXJucEw26Q",
        "colab_type": "text"
      },
      "source": [
        "Looking at above plot of the explained variance, we choose 17 principal components. In comparison there are 20 different positions, with a few of them being practically identical.\n",
        "\n",
        "Using 17 principal components, the clusters can now be made and plotted."
      ]
    },
    {
      "cell_type": "code",
      "metadata": {
        "id": "45398qbavtTi",
        "colab_type": "code",
        "outputId": "2e6a6ef5-b35b-4206-c507-eb57aaf85228",
        "colab": {
          "base_uri": "https://localhost:8080/",
          "height": 269
        }
      },
      "source": [
        "pca = PCA(n_components=17)\n",
        "sample = pca.fit_transform(samples)\n",
        "xs = sample[:,0]\n",
        "ys = sample[:,1]\n",
        "plt.scatter(xs, ys, c=labels)\n",
        "plt.axis('equal')\n",
        "plt.show()"
      ],
      "execution_count": 0,
      "outputs": [
        {
          "output_type": "display_data",
          "data": {
            "image/png": "[encoded data removed]",
            "text/plain": [
              "<Figure size 432x288 with 1 Axes>"
            ]
          },
          "metadata": {
            "tags": []
          }
        }
      ]
    },
    {
      "cell_type": "markdown",
      "metadata": {
        "id": "hoTAt4xC6Jiy",
        "colab_type": "text"
      },
      "source": [
        "Looking at above plot it seems like the algorithm is capable of splitting the observations into two well-defined and different clusters.\n",
        "\n",
        "Following this, it could be very interesting to see, how the different player positions are spread throughout the clusters.\n",
        "\n",
        "This can be examined using the crosstab function. In the following we have set normalize='index'. What this does is simply normalizing the different rows, thus summarizing the two clusters for any given position equals 1."
      ]
    },
    {
      "cell_type": "code",
      "metadata": {
        "id": "ptMkQmwj5taO",
        "colab_type": "code",
        "outputId": "fcb88dd3-9ff8-4f8a-c845-378416ba11cd",
        "colab": {
          "base_uri": "https://localhost:8080/",
          "height": 576
        }
      },
      "source": [
        "lab = pd.DataFrame(labels)\n",
        "lab.columns = ['Clusters']\n",
        "df_up = df_u.join(lab)\n",
        "pd.crosstab(df.Pos,df_up.Clusters,normalize='index')"
      ],
      "execution_count": 0,
      "outputs": [
        {
          "output_type": "execute_result",
          "data": {
            "text/html": [
              "<div>\n",
              "<style scoped>\n",
              "    .dataframe tbody tr th:only-of-type {\n",
              "        vertical-align: middle;\n",
              "    }\n",
              "\n",
              "    .dataframe tbody tr th {\n",
              "        vertical-align: top;\n",
              "    }\n",
              "\n",
              "    .dataframe thead th {\n",
              "        text-align: right;\n",
              "    }\n",
              "</style>\n",
              "<table border=\"1\" class=\"dataframe\">\n",
              "  <thead>\n",
              "    <tr style=\"text-align: right;\">\n",
              "      <th>Clusters</th>\n",
              "      <th>0.0</th>\n",
              "      <th>1.0</th>\n",
              "    </tr>\n",
              "    <tr>\n",
              "      <th>Pos</th>\n",
              "      <th></th>\n",
              "      <th></th>\n",
              "    </tr>\n",
              "  </thead>\n",
              "  <tbody>\n",
              "    <tr>\n",
              "      <th>C</th>\n",
              "      <td>0.333333</td>\n",
              "      <td>0.666667</td>\n",
              "    </tr>\n",
              "    <tr>\n",
              "      <th>CB</th>\n",
              "      <td>0.347107</td>\n",
              "      <td>0.652893</td>\n",
              "    </tr>\n",
              "    <tr>\n",
              "      <th>DE</th>\n",
              "      <td>0.333333</td>\n",
              "      <td>0.666667</td>\n",
              "    </tr>\n",
              "    <tr>\n",
              "      <th>DT</th>\n",
              "      <td>0.401869</td>\n",
              "      <td>0.598131</td>\n",
              "    </tr>\n",
              "    <tr>\n",
              "      <th>FB</th>\n",
              "      <td>0.511111</td>\n",
              "      <td>0.488889</td>\n",
              "    </tr>\n",
              "    <tr>\n",
              "      <th>FS</th>\n",
              "      <td>0.385714</td>\n",
              "      <td>0.614286</td>\n",
              "    </tr>\n",
              "    <tr>\n",
              "      <th>ILB</th>\n",
              "      <td>0.396825</td>\n",
              "      <td>0.603175</td>\n",
              "    </tr>\n",
              "    <tr>\n",
              "      <th>LS</th>\n",
              "      <td>1.000000</td>\n",
              "      <td>0.000000</td>\n",
              "    </tr>\n",
              "    <tr>\n",
              "      <th>OG</th>\n",
              "      <td>0.359649</td>\n",
              "      <td>0.640351</td>\n",
              "    </tr>\n",
              "    <tr>\n",
              "      <th>OLB</th>\n",
              "      <td>0.358491</td>\n",
              "      <td>0.641509</td>\n",
              "    </tr>\n",
              "    <tr>\n",
              "      <th>OT</th>\n",
              "      <td>0.382114</td>\n",
              "      <td>0.617886</td>\n",
              "    </tr>\n",
              "    <tr>\n",
              "      <th>QB</th>\n",
              "      <td>0.000000</td>\n",
              "      <td>1.000000</td>\n",
              "    </tr>\n",
              "    <tr>\n",
              "      <th>RB</th>\n",
              "      <td>0.390000</td>\n",
              "      <td>0.610000</td>\n",
              "    </tr>\n",
              "    <tr>\n",
              "      <th>SS</th>\n",
              "      <td>0.312500</td>\n",
              "      <td>0.687500</td>\n",
              "    </tr>\n",
              "    <tr>\n",
              "      <th>TE</th>\n",
              "      <td>0.310680</td>\n",
              "      <td>0.689320</td>\n",
              "    </tr>\n",
              "    <tr>\n",
              "      <th>WR</th>\n",
              "      <td>0.333333</td>\n",
              "      <td>0.666667</td>\n",
              "    </tr>\n",
              "  </tbody>\n",
              "</table>\n",
              "</div>"
            ],
            "text/plain": [
              "Clusters       0.0       1.0\n",
              "Pos                         \n",
              "C         0.333333  0.666667\n",
              "CB        0.347107  0.652893\n",
              "DE        0.333333  0.666667\n",
              "DT        0.401869  0.598131\n",
              "FB        0.511111  0.488889\n",
              "FS        0.385714  0.614286\n",
              "ILB       0.396825  0.603175\n",
              "LS        1.000000  0.000000\n",
              "OG        0.359649  0.640351\n",
              "OLB       0.358491  0.641509\n",
              "OT        0.382114  0.617886\n",
              "QB        0.000000  1.000000\n",
              "RB        0.390000  0.610000\n",
              "SS        0.312500  0.687500\n",
              "TE        0.310680  0.689320\n",
              "WR        0.333333  0.666667"
            ]
          },
          "metadata": {
            "tags": []
          },
          "execution_count": 39
        }
      ]
    },
    {
      "cell_type": "markdown",
      "metadata": {
        "id": "-2bajvPX6JAQ",
        "colab_type": "text"
      },
      "source": [
        "Even though most roles are represented more in one cluster than the other, even at a ratio of 2:1, it doesn't look like the clusters are particularly good at defining the different positions, thus the clusters are not particularly informative.\n"
      ]
    },
    {
      "cell_type": "markdown",
      "metadata": {
        "id": "DCKGgk3Q664X",
        "colab_type": "text"
      },
      "source": [
        "## Supervised learning\n",
        "From unsupervised learning, it did not appear like the clusters were capable of splitting the players into different clusters based on their position. In the following code, we will try to use different supervised ML algorithms to see if this works any better at predicting what position a player has, based on how their physical traits are.\n",
        "\n",
        "\n",
        "Thus the questions becomes: can we instead predict position by using some supervised machine learning models?"
      ]
    },
    {
      "cell_type": "markdown",
      "metadata": {
        "id": "GPkDe0IumQj4",
        "colab_type": "text"
      },
      "source": [
        "To run a supervised data analysis, the data is first converted to numeric, then scaled, and split into test and training datasets, with target variables seperated from the datasets."
      ]
    },
    {
      "cell_type": "code",
      "metadata": {
        "id": "LmwsoeIPzPx2",
        "colab_type": "code",
        "outputId": "98f93fb1-e315-496e-8ef5-be35ea186fcc",
        "colab": {
          "base_uri": "https://localhost:8080/",
          "height": 204
        }
      },
      "source": [
        "supervised = df\n",
        "supervised.head()"
      ],
      "execution_count": 0,
      "outputs": [
        {
          "output_type": "execute_result",
          "data": {
            "text/html": [
              "<div>\n",
              "<style scoped>\n",
              "    .dataframe tbody tr th:only-of-type {\n",
              "        vertical-align: middle;\n",
              "    }\n",
              "\n",
              "    .dataframe tbody tr th {\n",
              "        vertical-align: top;\n",
              "    }\n",
              "\n",
              "    .dataframe thead th {\n",
              "        text-align: right;\n",
              "    }\n",
              "</style>\n",
              "<table border=\"1\" class=\"dataframe\">\n",
              "  <thead>\n",
              "    <tr style=\"text-align: right;\">\n",
              "      <th></th>\n",
              "      <th>Pos</th>\n",
              "      <th>Ht</th>\n",
              "      <th>Wt</th>\n",
              "      <th>Forty</th>\n",
              "      <th>Vertical</th>\n",
              "      <th>BenchReps</th>\n",
              "      <th>BroadJump</th>\n",
              "      <th>Cone</th>\n",
              "      <th>Shuttle</th>\n",
              "    </tr>\n",
              "  </thead>\n",
              "  <tbody>\n",
              "    <tr>\n",
              "      <th>2</th>\n",
              "      <td>OT</td>\n",
              "      <td>193.04</td>\n",
              "      <td>151.499852</td>\n",
              "      <td>5.56</td>\n",
              "      <td>63.50</td>\n",
              "      <td>23.0</td>\n",
              "      <td>238.76</td>\n",
              "      <td>8.48</td>\n",
              "      <td>4.98</td>\n",
              "    </tr>\n",
              "    <tr>\n",
              "      <th>7</th>\n",
              "      <td>OLB</td>\n",
              "      <td>182.88</td>\n",
              "      <td>107.501392</td>\n",
              "      <td>4.72</td>\n",
              "      <td>78.74</td>\n",
              "      <td>21.0</td>\n",
              "      <td>284.48</td>\n",
              "      <td>7.96</td>\n",
              "      <td>4.39</td>\n",
              "    </tr>\n",
              "    <tr>\n",
              "      <th>9</th>\n",
              "      <td>CB</td>\n",
              "      <td>175.26</td>\n",
              "      <td>79.378665</td>\n",
              "      <td>4.44</td>\n",
              "      <td>88.90</td>\n",
              "      <td>17.0</td>\n",
              "      <td>302.26</td>\n",
              "      <td>7.03</td>\n",
              "      <td>4.14</td>\n",
              "    </tr>\n",
              "    <tr>\n",
              "      <th>11</th>\n",
              "      <td>OT</td>\n",
              "      <td>198.12</td>\n",
              "      <td>141.520819</td>\n",
              "      <td>5.34</td>\n",
              "      <td>71.12</td>\n",
              "      <td>20.0</td>\n",
              "      <td>243.84</td>\n",
              "      <td>7.72</td>\n",
              "      <td>4.73</td>\n",
              "    </tr>\n",
              "    <tr>\n",
              "      <th>12</th>\n",
              "      <td>FS</td>\n",
              "      <td>182.88</td>\n",
              "      <td>94.347213</td>\n",
              "      <td>4.62</td>\n",
              "      <td>88.90</td>\n",
              "      <td>10.0</td>\n",
              "      <td>289.56</td>\n",
              "      <td>6.92</td>\n",
              "      <td>4.32</td>\n",
              "    </tr>\n",
              "  </tbody>\n",
              "</table>\n",
              "</div>"
            ],
            "text/plain": [
              "    Pos      Ht          Wt  Forty  ...  BenchReps  BroadJump  Cone  Shuttle\n",
              "2    OT  193.04  151.499852   5.56  ...       23.0     238.76  8.48     4.98\n",
              "7   OLB  182.88  107.501392   4.72  ...       21.0     284.48  7.96     4.39\n",
              "9    CB  175.26   79.378665   4.44  ...       17.0     302.26  7.03     4.14\n",
              "11   OT  198.12  141.520819   5.34  ...       20.0     243.84  7.72     4.73\n",
              "12   FS  182.88   94.347213   4.62  ...       10.0     289.56  6.92     4.32\n",
              "\n",
              "[5 rows x 9 columns]"
            ]
          },
          "metadata": {
            "tags": []
          },
          "execution_count": 40
        }
      ]
    },
    {
      "cell_type": "markdown",
      "metadata": {
        "id": "uEgjUDzBQ5HZ",
        "colab_type": "text"
      },
      "source": [
        "### Changing the position variable into a numerical variable\n",
        "We want to use the position variable (Pos) as our target variable. Because the variable is categorical it is first needed to change it into a numerical variable."
      ]
    },
    {
      "cell_type": "code",
      "metadata": {
        "id": "6g_84BS9gD0l",
        "colab_type": "code",
        "colab": {}
      },
      "source": [
        "posdict = {}\n",
        "a = supervised.Pos.unique()\n",
        "b = 0\n",
        "while b < len(a):\n",
        "  posdict[a[b]] = b\n",
        "  b += 1\n",
        "supervised['PosN'] = supervised['Pos'].map(posdict)"
      ],
      "execution_count": 0,
      "outputs": []
    },
    {
      "cell_type": "markdown",
      "metadata": {
        "id": "Et7T9kefQy2V",
        "colab_type": "text"
      },
      "source": [
        "### Splitting data into test- and train-sets\n",
        "We now want to split the X- and y-variables into a train- and test-set. We do this by using the train_test_split function from sklearn.model_selection. Before doing this, we want to use a scale (the StandardScaler() function).\n",
        "\n",
        "Afterwards we split the data into a training and a test set. For this purpose we use a test size of 25%, and we specify a random_state value (42), so we can easily replicate our results.\n"
      ]
    },
    {
      "cell_type": "code",
      "metadata": {
        "id": "z-ULU-QclGcp",
        "colab_type": "code",
        "colab": {}
      },
      "source": [
        "encoder = LabelEncoder()\n",
        "scaler = StandardScaler()\n",
        "dataset = scaler.fit_transform(supervised.drop(['Pos','PosN'], 1))\n",
        "target = encoder.fit_transform(supervised['PosN'])\n",
        "train_data, test_data, train_target, test_target = train_test_split(dataset, target, test_size=0.20, random_state=42)"
      ],
      "execution_count": 0,
      "outputs": []
    },
    {
      "cell_type": "markdown",
      "metadata": {
        "id": "G39EZFJJsncx",
        "colab_type": "text"
      },
      "source": [
        "Now that the data has been split into a training and a test set, and it is scaled, we can use different models in order to predict how well the models perform.\n",
        "\n",
        "\n",
        "###Linear Regression"
      ]
    },
    {
      "cell_type": "code",
      "metadata": {
        "id": "gUyJAsSYq9Pp",
        "colab_type": "code",
        "outputId": "c1537ed3-870d-4a62-81ea-4bbf46c63cbf",
        "colab": {
          "base_uri": "https://localhost:8080/",
          "height": 51
        }
      },
      "source": [
        "# K-fold cross-validation\n",
        "model1 = LinearRegression()\n",
        "scores1 = cross_val_score(model1, train_data, train_target, cv = 5)\n",
        "print(\"An average cross validation score of {}\".format(np.mean(scores1)))\n",
        "\n",
        "# Model training\n",
        "model1.fit(train_data, train_target)\n",
        "\n",
        "# Model performance\n",
        "print('Model performance:', model1.score(test_data, test_target))"
      ],
      "execution_count": 0,
      "outputs": [
        {
          "output_type": "stream",
          "text": [
            "An average cross validation score of 0.045682350704720466\n",
            "Model performance: 0.022602925239476157\n"
          ],
          "name": "stdout"
        }
      ]
    },
    {
      "cell_type": "markdown",
      "metadata": {
        "id": "vY6iaHaTQqmf",
        "colab_type": "text"
      },
      "source": [
        "Unsurprisingly the model has a very poor performance, and it will not be used any further."
      ]
    },
    {
      "cell_type": "markdown",
      "metadata": {
        "id": "0Oc6NdriFmWL",
        "colab_type": "text"
      },
      "source": [
        "###Logistic Regression"
      ]
    },
    {
      "cell_type": "code",
      "metadata": {
        "id": "EyAAy-a1FoBS",
        "colab_type": "code",
        "outputId": "63f261fd-c971-48c6-df02-c190cf171e04",
        "colab": {
          "base_uri": "https://localhost:8080/",
          "height": 51
        }
      },
      "source": [
        "# K-fold cross-validation\n",
        "model2 = LogisticRegression()\n",
        "scores2 = cross_val_score(model2, train_data, train_target, cv = 5)\n",
        "print(\"An average cross validation score of {}\".format(np.mean(scores2)))\n",
        "\n",
        "# Model training\n",
        "model2.fit(train_data, train_target)\n",
        "\n",
        "# Model performance\n",
        "print('Model performance:', model2.score(test_data, test_target))"
      ],
      "execution_count": 0,
      "outputs": [
        {
          "output_type": "stream",
          "text": [
            "An average cross validation score of 0.4828549868444464\n",
            "Model performance: 0.5008665511265165\n"
          ],
          "name": "stdout"
        }
      ]
    },
    {
      "cell_type": "markdown",
      "metadata": {
        "id": "YnmfotvMSPLA",
        "colab_type": "text"
      },
      "source": [
        "LogisticRegression is much better at predicting positions, but it still only gets roughly half correct."
      ]
    },
    {
      "cell_type": "markdown",
      "metadata": {
        "id": "RuLmsOaottvV",
        "colab_type": "text"
      },
      "source": [
        "###Decision Tree model"
      ]
    },
    {
      "cell_type": "code",
      "metadata": {
        "id": "3QazjMB0q9Ww",
        "colab_type": "code",
        "outputId": "e33fc50f-159a-4c32-8446-180dc8103307",
        "colab": {
          "base_uri": "https://localhost:8080/",
          "height": 51
        }
      },
      "source": [
        "model3 = DecisionTreeClassifier()\n",
        "scores3 = cross_val_score(model3, train_data, train_target, cv = 5)\n",
        "print(\"An average cross validation score of {}\".format(np.mean(scores3)))\n",
        "\n",
        "# Model training\n",
        "model3.fit(train_data, train_target)\n",
        "\n",
        "# Model performance\n",
        "print('Model performance:', model3.score(test_data, test_target))"
      ],
      "execution_count": 0,
      "outputs": [
        {
          "output_type": "stream",
          "text": [
            "An average cross validation score of 0.4368713856918832\n",
            "Model performance: 0.43847487001733104\n"
          ],
          "name": "stdout"
        }
      ]
    },
    {
      "cell_type": "markdown",
      "metadata": {
        "id": "qr_fZ2wqScPG",
        "colab_type": "text"
      },
      "source": [
        "DecisionTree is slightly worse than LogisticRegression, but still much better than LinearRegression."
      ]
    },
    {
      "cell_type": "markdown",
      "metadata": {
        "id": "8x_vqSatu15_",
        "colab_type": "text"
      },
      "source": [
        "###CatBoost"
      ]
    },
    {
      "cell_type": "code",
      "metadata": {
        "id": "er2sUiRnu2Cs",
        "colab_type": "code",
        "outputId": "1d29ba0d-947e-4760-ebc8-353afe48fe8e",
        "colab": {
          "base_uri": "https://localhost:8080/",
          "height": 51
        }
      },
      "source": [
        "model4 = CatBoostClassifier(logging_level='Silent')\n",
        "scores4 = cross_val_score(model4, train_data, train_target, cv = 5)\n",
        "print(\"An average cross validation score of {}\".format(np.mean(scores4)))\n",
        "\n",
        "# Model training\n",
        "model4.fit(train_data, train_target)\n",
        "\n",
        "# Model performance\n",
        "print('Model performance:', model4.score(test_data, test_target))"
      ],
      "execution_count": 0,
      "outputs": [
        {
          "output_type": "stream",
          "text": [
            "An average cross validation score of 0.5759749135099723\n",
            "Model performance: 0.5719237435008665\n"
          ],
          "name": "stdout"
        }
      ]
    },
    {
      "cell_type": "markdown",
      "metadata": {
        "id": "92hwhUPC1Yfa",
        "colab_type": "text"
      },
      "source": [
        "CatBoostClassifier is so far the best model with a performance of roughly 0.57.\n"
      ]
    },
    {
      "cell_type": "markdown",
      "metadata": {
        "id": "cbLBlkbf-syE",
        "colab_type": "text"
      },
      "source": [
        "###XGBoost"
      ]
    },
    {
      "cell_type": "code",
      "metadata": {
        "id": "KmLX9kf8-Ul3",
        "colab_type": "code",
        "outputId": "a9981c52-b4cd-439b-fa1f-0fdc0593d247",
        "colab": {
          "base_uri": "https://localhost:8080/",
          "height": 51
        }
      },
      "source": [
        "model5 = xgb.XGBClassifier()\n",
        "scores5 = cross_val_score(model5, train_data, train_target, cv = 5)\n",
        "print(\"An average cross validation score of {}\".format(np.mean(scores5)))\n",
        "\n",
        "# Model training\n",
        "model5.fit(train_data, train_target)\n",
        "\n",
        "# Model performance\n",
        "print('Model performance:', model5.score(test_data, test_target))"
      ],
      "execution_count": 0,
      "outputs": [
        {
          "output_type": "stream",
          "text": [
            "An average cross validation score of 0.5481482665728669\n",
            "Model performance: 0.5389948006932409\n"
          ],
          "name": "stdout"
        }
      ]
    },
    {
      "cell_type": "markdown",
      "metadata": {
        "id": "Cj2M0EF-1Q3f",
        "colab_type": "text"
      },
      "source": [
        "The XGBoostClassifier appears to be slightly worse compared to CatBoostClassifier. It performs better than LogisticRegression and DecisionTree though."
      ]
    },
    {
      "cell_type": "markdown",
      "metadata": {
        "id": "CWNCFFaATVFm",
        "colab_type": "text"
      },
      "source": [
        "###Predicting the models\n",
        "We call the .predict function on test_data in the models (except LinearRegression, as it was absolutely garbage). We store the predictions in y_pred2, y_pred3, y_pred4 and y_pred5."
      ]
    },
    {
      "cell_type": "code",
      "metadata": {
        "id": "-hU7Rju41RBh",
        "colab_type": "code",
        "colab": {}
      },
      "source": [
        "y_pred1 = model1.predict(test_data)\n",
        "y_pred2 = model2.predict(test_data)\n",
        "y_pred3 = model3.predict(test_data)\n",
        "y_pred4 = model4.predict(test_data)\n",
        "y_pred5 = model5.predict(test_data)"
      ],
      "execution_count": 0,
      "outputs": []
    },
    {
      "cell_type": "markdown",
      "metadata": {
        "id": "5lZlbvqy1hvI",
        "colab_type": "text"
      },
      "source": [
        "###Evaluating the models using classification_report and confusion_matrix\n",
        "Using the confusion matrixes, correctly predicted positions can be seen on the diagonal. Thus a perfect model would only have numbers on the diagonal and nowhere else. Looking at the CatBoostClassifier it becomes clear, that the model is the best of the presented models,  at predicting which positions a player is drafted to. In certain positions, however, it looks like the model has a hard time predicting them.\n",
        "\n",
        "Overall it looks like the CatBoost model is good at predicting which position a player has - and in situations where the model doesn't predict right, it generally looks like the model predicts 2-3 different positions. This behaviour might be explained, by certain positions requiring almost identical physical traits, which also makes it hard for the model to distinguish the positions from each other. Taking this into consideration, it does appear that the players' physical traits are deterministic to which positions the players have."
      ]
    },
    {
      "cell_type": "markdown",
      "metadata": {
        "id": "2oyJjAbY1iGi",
        "colab_type": "text"
      },
      "source": [
        "####Logistic Regression"
      ]
    },
    {
      "cell_type": "code",
      "metadata": {
        "id": "v1qGe_9U1iOG",
        "colab_type": "code",
        "outputId": "01c31bbb-a1c4-4bc8-8b80-d99a69890a4b",
        "colab": {
          "base_uri": "https://localhost:8080/",
          "height": 782
        }
      },
      "source": [
        "print(classification_report(test_target, y_pred2))\n",
        "print(confusion_matrix(test_target,y_pred2))"
      ],
      "execution_count": 0,
      "outputs": [
        {
          "output_type": "stream",
          "text": [
            "              precision    recall  f1-score   support\n",
            "\n",
            "           0       0.58      0.70      0.64        50\n",
            "           1       0.54      0.41      0.47        61\n",
            "           2       0.58      0.78      0.67        60\n",
            "           3       0.00      0.00      0.00        17\n",
            "           4       0.42      0.36      0.38        42\n",
            "           5       0.60      0.24      0.34        25\n",
            "           6       0.46      0.61      0.53        57\n",
            "           7       0.00      0.00      0.00        26\n",
            "           8       0.55      0.75      0.63        59\n",
            "           9       0.47      0.76      0.58        41\n",
            "          10       0.51      0.58      0.54        43\n",
            "          11       0.25      0.07      0.11        15\n",
            "          12       0.00      0.00      0.00        24\n",
            "          13       0.43      0.54      0.48        46\n",
            "          14       0.00      0.00      0.00         5\n",
            "          15       0.00      0.00      0.00         1\n",
            "          16       0.00      0.00      0.00         2\n",
            "          17       0.00      0.00      0.00         2\n",
            "          20       0.00      0.00      0.00         1\n",
            "\n",
            "    accuracy                           0.50       577\n",
            "   macro avg       0.28      0.31      0.28       577\n",
            "weighted avg       0.44      0.50      0.46       577\n",
            "\n",
            "[[35  0  0  0  5  0  6  0  4  0  0  0  0  0  0  0  0  0  0]\n",
            " [ 0 25  0  1  0  2 14  0  0 10  6  2  0  1  0  0  0  0  0]\n",
            " [ 0  0 47  1  0  0  0  0  0  2  0  0  0 10  0  0  0  0  0]\n",
            " [ 0  0  6  0  0  0  0  0  0  1  1  0  0  9  0  0  0  0  0]\n",
            " [12  0  0  0 15  0  0  0 15  0  0  0  0  0  0  0  0  0  0]\n",
            " [ 0  6  0  2  0  6  2  0  0  5  2  1  0  1  0  0  0  0  0]\n",
            " [ 2  5  0  0  1  1 35  0  4  0  8  0  1  0  0  0  0  0  0]\n",
            " [ 0  2  9  4  0  0  0  0  0  5  0  0  0  6  0  0  0  0  0]\n",
            " [ 5  0  0  0  8  0  2  0 44  0  0  0  0  0  0  0  0  0  0]\n",
            " [ 0  1  4  0  0  0  0  0  0 31  2  0  0  3  0  0  0  0  0]\n",
            " [ 0  1  0  0  0  0 14  0  1  1 25  0  0  1  0  0  0  0  0]\n",
            " [ 0  4  0  0  0  0  0  0  0  9  0  1  1  0  0  0  0  0  0]\n",
            " [ 5  0  0  0  7  0  0  0 12  0  0  0  0  0  0  0  0  0  0]\n",
            " [ 0  1 15  0  0  0  1  0  0  2  2  0  0 25  0  0  0  0  0]\n",
            " [ 0  1  0  1  0  0  0  0  0  0  3  0  0  0  0  0  0  0  0]\n",
            " [ 0  0  0  0  0  1  0  0  0  0  0  0  0  0  0  0  0  0  0]\n",
            " [ 0  0  0  0  0  0  0  0  0  0  0  0  0  2  0  0  0  0  0]\n",
            " [ 0  0  0  0  0  0  2  0  0  0  0  0  0  0  0  0  0  0  0]\n",
            " [ 1  0  0  0  0  0  0  0  0  0  0  0  0  0  0  0  0  0  0]]\n"
          ],
          "name": "stdout"
        }
      ]
    },
    {
      "cell_type": "markdown",
      "metadata": {
        "id": "-tCLRBSI1iWP",
        "colab_type": "text"
      },
      "source": [
        "#### Decision Tree"
      ]
    },
    {
      "cell_type": "code",
      "metadata": {
        "id": "7HRlw89Y1idK",
        "colab_type": "code",
        "outputId": "bc1678be-8929-4a9b-9008-0d528d779f45",
        "colab": {
          "base_uri": "https://localhost:8080/",
          "height": 816
        }
      },
      "source": [
        "print(classification_report(test_target,y_pred3))\n",
        "print(confusion_matrix(test_target,y_pred3))"
      ],
      "execution_count": 0,
      "outputs": [
        {
          "output_type": "stream",
          "text": [
            "              precision    recall  f1-score   support\n",
            "\n",
            "           0       0.60      0.60      0.60        50\n",
            "           1       0.38      0.31      0.34        61\n",
            "           2       0.55      0.60      0.58        60\n",
            "           3       0.18      0.24      0.21        17\n",
            "           4       0.42      0.38      0.40        42\n",
            "           5       0.32      0.28      0.30        25\n",
            "           6       0.55      0.56      0.56        57\n",
            "           7       0.32      0.23      0.27        26\n",
            "           8       0.51      0.44      0.47        59\n",
            "           9       0.56      0.54      0.55        41\n",
            "          10       0.47      0.53      0.50        43\n",
            "          11       0.26      0.40      0.32        15\n",
            "          12       0.27      0.33      0.30        24\n",
            "          13       0.32      0.35      0.33        46\n",
            "          14       1.00      0.40      0.57         5\n",
            "          15       0.00      0.00      0.00         1\n",
            "          16       0.00      0.00      0.00         2\n",
            "          17       0.00      0.00      0.00         2\n",
            "          18       0.00      0.00      0.00         0\n",
            "          20       0.00      0.00      0.00         1\n",
            "\n",
            "    accuracy                           0.44       577\n",
            "   macro avg       0.34      0.31      0.31       577\n",
            "weighted avg       0.45      0.44      0.44       577\n",
            "\n",
            "[[30  0  0  0 12  0  1  0  3  0  0  0  4  0  0  0  0  0  0  0]\n",
            " [ 0 19  0  1  0  7  6  1  0  6  6  8  0  5  0  1  0  1  0  0]\n",
            " [ 0  0 36  8  0  0  0  3  0  0  0  0  0 13  0  0  0  0  0  0]\n",
            " [ 0  0  5  4  0  0  0  4  0  1  0  0  0  3  0  0  0  0  0  0]\n",
            " [ 9  0  0  0 16  0  0  0 13  0  0  0  4  0  0  0  0  0  0  0]\n",
            " [ 0  6  0  0  0  7  2  0  0  2  1  6  0  0  0  1  0  0  0  0]\n",
            " [ 0  5  0  0  0  2 32  0  1  0 14  1  2  0  0  0  0  0  0  0]\n",
            " [ 0  1  6  3  0  0  0  6  0  3  0  0  0  6  0  0  1  0  0  0]\n",
            " [ 7  0  0  0  6  0  7  0 26  0  0  0 12  0  0  0  0  0  1  0]\n",
            " [ 0  7  4  0  0  1  0  2  0 22  0  2  0  3  0  0  0  0  0  0]\n",
            " [ 0  6  0  0  0  0 10  0  0  1 23  0  0  2  0  0  0  1  0  0]\n",
            " [ 0  4  0  0  0  4  0  0  0  1  0  6  0  0  0  0  0  0  0  0]\n",
            " [ 3  0  0  0  4  0  0  0  8  0  0  0  8  0  0  0  0  0  1  0]\n",
            " [ 0  1 12  6  0  0  0  3  0  3  3  0  0 16  0  0  2  0  0  0]\n",
            " [ 0  1  1  0  0  0  0  0  0  0  1  0  0  0  2  0  0  0  0  0]\n",
            " [ 0  0  0  0  0  1  0  0  0  0  0  0  0  0  0  0  0  0  0  0]\n",
            " [ 0  0  1  0  0  0  0  0  0  0  0  0  0  1  0  0  0  0  0  0]\n",
            " [ 0  0  0  0  0  0  0  0  0  0  1  0  0  1  0  0  0  0  0  0]\n",
            " [ 0  0  0  0  0  0  0  0  0  0  0  0  0  0  0  0  0  0  0  0]\n",
            " [ 1  0  0  0  0  0  0  0  0  0  0  0  0  0  0  0  0  0  0  0]]\n"
          ],
          "name": "stdout"
        }
      ]
    },
    {
      "cell_type": "markdown",
      "metadata": {
        "id": "ZkmQgTjj1jo0",
        "colab_type": "text"
      },
      "source": [
        "#### CatBoostClassifier"
      ]
    },
    {
      "cell_type": "code",
      "metadata": {
        "id": "x0wqQhHo1jw2",
        "colab_type": "code",
        "outputId": "814e3e48-f594-4c9e-efea-ac681794e96f",
        "colab": {
          "base_uri": "https://localhost:8080/",
          "height": 782
        }
      },
      "source": [
        "print(classification_report(test_target,y_pred4))\n",
        "print(confusion_matrix(test_target,y_pred4))"
      ],
      "execution_count": 0,
      "outputs": [
        {
          "output_type": "stream",
          "text": [
            "              precision    recall  f1-score   support\n",
            "\n",
            "           0       0.62      0.72      0.67        50\n",
            "           1       0.47      0.57      0.52        61\n",
            "           2       0.70      0.88      0.78        60\n",
            "           3       0.28      0.29      0.29        17\n",
            "           4       0.50      0.45      0.48        42\n",
            "           5       0.22      0.16      0.19        25\n",
            "           6       0.70      0.77      0.73        57\n",
            "           7       0.71      0.19      0.30        26\n",
            "           8       0.59      0.68      0.63        59\n",
            "           9       0.65      0.68      0.67        41\n",
            "          10       0.57      0.56      0.56        43\n",
            "          11       0.36      0.33      0.34        15\n",
            "          12       0.33      0.17      0.22        24\n",
            "          13       0.60      0.59      0.59        46\n",
            "          14       1.00      0.20      0.33         5\n",
            "          15       0.00      0.00      0.00         1\n",
            "          16       0.00      0.00      0.00         2\n",
            "          17       0.00      0.00      0.00         2\n",
            "          20       0.00      0.00      0.00         1\n",
            "\n",
            "    accuracy                           0.57       577\n",
            "   macro avg       0.44      0.38      0.38       577\n",
            "weighted avg       0.56      0.57      0.55       577\n",
            "\n",
            "[[36  0  0  0  6  0  0  0  7  0  0  0  1  0  0  0  0  0  0]\n",
            " [ 0 35  0  0  0  7  5  1  0  2  5  5  0  1  0  0  0  0  0]\n",
            " [ 0  0 53  1  0  0  0  1  0  1  0  0  0  4  0  0  0  0  0]\n",
            " [ 0  0  4  5  0  0  0  0  0  2  0  0  0  6  0  0  0  0  0]\n",
            " [10  0  0  0 19  0  0  0 10  0  0  0  3  0  0  0  0  0  0]\n",
            " [ 0 16  0  0  0  4  0  0  0  0  1  4  0  0  0  0  0  0  0]\n",
            " [ 0  2  0  0  0  0 44  0  1  0 10  0  0  0  0  0  0  0  0]\n",
            " [ 0  1  4  8  0  0  0  5  0  6  0  0  0  2  0  0  0  0  0]\n",
            " [ 7  0  0  0  7  0  1  0 40  0  0  0  4  0  0  0  0  0  0]\n",
            " [ 0  5  4  1  0  1  0  0  0 28  0  0  0  2  0  0  0  0  0]\n",
            " [ 0  6  0  0  0  0 12  0  0  1 24  0  0  0  0  0  0  0  0]\n",
            " [ 0  3  0  0  0  5  1  0  0  1  0  5  0  0  0  0  0  0  0]\n",
            " [ 4  0  0  0  6  0  0  0 10  0  0  0  4  0  0  0  0  0  0]\n",
            " [ 0  2 11  3  0  0  0  0  0  2  1  0  0 27  0  0  0  0  0]\n",
            " [ 0  3  0  0  0  0  0  0  0  0  0  0  0  1  1  0  0  0  0]\n",
            " [ 0  0  0  0  0  1  0  0  0  0  0  0  0  0  0  0  0  0  0]\n",
            " [ 0  0  0  0  0  0  0  0  0  0  0  0  0  2  0  0  0  0  0]\n",
            " [ 0  1  0  0  0  0  0  0  0  0  1  0  0  0  0  0  0  0  0]\n",
            " [ 1  0  0  0  0  0  0  0  0  0  0  0  0  0  0  0  0  0  0]]\n"
          ],
          "name": "stdout"
        }
      ]
    },
    {
      "cell_type": "markdown",
      "metadata": {
        "id": "wpH9agDzrZxz",
        "colab_type": "text"
      },
      "source": [
        "####XGBoostClassifier"
      ]
    },
    {
      "cell_type": "code",
      "metadata": {
        "id": "vZLHBFL0OOeI",
        "colab_type": "code",
        "outputId": "3a0e246d-854c-49cf-ab01-2ff6fdf4b956",
        "colab": {
          "base_uri": "https://localhost:8080/",
          "height": 782
        }
      },
      "source": [
        "print(classification_report(test_target,y_pred5))\n",
        "print(confusion_matrix(test_target,y_pred5))"
      ],
      "execution_count": 0,
      "outputs": [
        {
          "output_type": "stream",
          "text": [
            "              precision    recall  f1-score   support\n",
            "\n",
            "           0       0.56      0.66      0.61        50\n",
            "           1       0.48      0.56      0.52        61\n",
            "           2       0.67      0.83      0.74        60\n",
            "           3       0.28      0.29      0.29        17\n",
            "           4       0.40      0.33      0.36        42\n",
            "           5       0.42      0.32      0.36        25\n",
            "           6       0.61      0.72      0.66        57\n",
            "           7       0.40      0.15      0.22        26\n",
            "           8       0.58      0.63      0.60        59\n",
            "           9       0.61      0.66      0.64        41\n",
            "          10       0.56      0.56      0.56        43\n",
            "          11       0.42      0.33      0.37        15\n",
            "          12       0.29      0.17      0.21        24\n",
            "          13       0.51      0.48      0.49        46\n",
            "          14       1.00      0.60      0.75         5\n",
            "          15       0.00      0.00      0.00         1\n",
            "          16       0.00      0.00      0.00         2\n",
            "          17       0.00      0.00      0.00         2\n",
            "          20       0.00      0.00      0.00         1\n",
            "\n",
            "    accuracy                           0.54       577\n",
            "   macro avg       0.41      0.38      0.39       577\n",
            "weighted avg       0.52      0.54      0.52       577\n",
            "\n",
            "[[33  0  0  0  9  0  2  0  5  0  0  0  1  0  0  0  0  0  0]\n",
            " [ 0 34  0  0  0  8  6  3  0  1  5  4  0  0  0  0  0  0  0]\n",
            " [ 0  0 50  1  0  0  0  1  0  2  0  0  0  6  0  0  0  0  0]\n",
            " [ 0  0  2  5  0  0  0  0  0  3  0  0  0  7  0  0  0  0  0]\n",
            " [11  0  0  0 14  0  0  0 11  0  0  0  6  0  0  0  0  0  0]\n",
            " [ 0 12  0  0  0  8  0  0  0  2  0  3  0  0  0  0  0  0  0]\n",
            " [ 0  2  0  0  0  0 41  0  1  0 13  0  0  0  0  0  0  0  0]\n",
            " [ 0  1  4  9  0  0  0  4  0  5  0  0  0  3  0  0  0  0  0]\n",
            " [ 9  0  0  0  7  0  3  0 37  0  0  0  3  0  0  0  0  0  0]\n",
            " [ 0  7  3  1  0  0  0  0  0 27  0  0  0  3  0  0  0  0  0]\n",
            " [ 0  5  0  0  0  0 13  0  0  1 24  0  0  0  0  0  0  0  0]\n",
            " [ 0  6  0  0  0  2  1  0  0  1  0  5  0  0  0  0  0  0  0]\n",
            " [ 6  0  0  0  4  0  0  0 10  0  0  0  4  0  0  0  0  0  0]\n",
            " [ 0  2 16  2  0  0  0  1  0  2  1  0  0 22  0  0  0  0  0]\n",
            " [ 0  1  0  0  0  0  0  1  0  0  0  0  0  0  3  0  0  0  0]\n",
            " [ 0  0  0  0  0  1  0  0  0  0  0  0  0  0  0  0  0  0  0]\n",
            " [ 0  0  0  0  0  0  0  0  0  0  0  0  0  2  0  0  0  0  0]\n",
            " [ 0  1  0  0  0  0  1  0  0  0  0  0  0  0  0  0  0  0  0]\n",
            " [ 0  0  0  0  1  0  0  0  0  0  0  0  0  0  0  0  0  0  0]]\n"
          ],
          "name": "stdout"
        }
      ]
    },
    {
      "cell_type": "markdown",
      "metadata": {
        "id": "NF0un8_PIPBl",
        "colab_type": "text"
      },
      "source": [
        "**Discussion**"
      ]
    },
    {
      "cell_type": "markdown",
      "metadata": {
        "id": "Aab9hjDVIaAb",
        "colab_type": "text"
      },
      "source": [
        "The critical flaw in this analysis is the missing data. We cannot create a coherent analysis of only some positions, since each position are not independent, but defined by their relation to ther positions.\n",
        "Therefore trying to define the positions based on the combined data, without the other positions are ultimately futile. Consider the following example: If weight was very heavily correlated with the both the LS (Long snapper) and DT (Defensive tackle), then a high 'Wt' value might indicate **either** DT or LS, but if the LS positions is dropped due to low number of observations, the calculated correlation with weight and the DT positions will be unnaturally high. Thus, the lacking nuber of discussion twists the entire analysis, and including positions with low number of observations undermines the statistic validity. In other words, a coherent analysis is not possible from the given dataset."
      ]
    },
    {
      "cell_type": "markdown",
      "metadata": {
        "id": "mg-vFtT8LzFp",
        "colab_type": "text"
      },
      "source": [
        "If, for the sake of the exercise, the data is treated as valid, we can see from the confusion matrices that roughly half of the observations are correct, and the rest of the 'mispredicted' are not randomly distributed, but clustered in positions similar to the one being predicted."
      ]
    },
    {
      "cell_type": "markdown",
      "metadata": {
        "id": "igI5LcywJYx9",
        "colab_type": "text"
      },
      "source": [
        "**Conklusion**"
      ]
    },
    {
      "cell_type": "markdown",
      "metadata": {
        "id": "qcGNz4BZMnxG",
        "colab_type": "text"
      },
      "source": [
        "The models have not achived a theoretical coherensy, but have nevertheless managed to predict the correct position in a whopping 50% chance."
      ]
    }
  ]
}